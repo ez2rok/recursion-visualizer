{
 "cells": [
  {
   "cell_type": "code",
   "execution_count": null,
   "metadata": {},
   "outputs": [
    {
     "name": "stdout",
     "output_type": "stream",
     "text": [
      "The autoreload extension is already loaded. To reload it, use:\n",
      "  %reload_ext autoreload\n"
     ]
    }
   ],
   "source": [
    "#| hide\n",
    "%load_ext autoreload\n",
    "%autoreload 2"
   ]
  },
  {
   "cell_type": "markdown",
   "metadata": {},
   "source": [
    "# graph\n",
    "\n",
    "> Recover the graph of recursive functions calls"
   ]
  },
  {
   "cell_type": "markdown",
   "metadata": {},
   "source": [
    "The `RecursionVisualizer` decorator records several pieces of information:\n",
    "\n",
    "1. `nodes` records all the nodes encountered\n",
    "2. `history` records the time at which each node is first visited and finished being visited\n",
    "\n",
    "`nodes` and `history` capture the graph of recursive function calls but in a\n",
    "convoluted, inaccessible way. (For example, given a node, it is not immediately\n",
    "clear how to use `nodes` and `history` to figure out which nodes are its parents.)\n",
    "The functions `get_graph` take in `nodes` and `history` and\n",
    "return a list of nodes and edges that define the graph of recursive function\n",
    "calls. Specifically, the nodes and edges are represented as a `networkx` graph\n",
    "object which has many additional helpful features. \n",
    "\n",
    "(Technically, `RecursionVisualizer` records one last piece of information: `node_to_edge_labels` which\n",
    "maps a node to an edge label. Due to the limited capabilities of the\n",
    "`RecursionVisualizer` decorator, it is only possible to map an edge label to *one* of the\n",
    "nodes in the edge. We cannot easily map an edge label to *both* nodes that make up\n",
    "the edge. The function `get_graph` are also responsible for correctly mapping\n",
    "each edge label to the proper edge.)"
   ]
  },
  {
   "cell_type": "code",
   "execution_count": null,
   "metadata": {},
   "outputs": [],
   "source": [
    "#| default_exp graph"
   ]
  },
  {
   "cell_type": "code",
   "execution_count": null,
   "metadata": {},
   "outputs": [],
   "source": [
    "#| export\n",
    "from recursion_visualizer.node import Node"
   ]
  },
  {
   "cell_type": "code",
   "execution_count": null,
   "metadata": {},
   "outputs": [],
   "source": [
    "#| export\n",
    "import networkx as nx\n",
    "from typing import List, Dict"
   ]
  },
  {
   "cell_type": "code",
   "execution_count": null,
   "metadata": {},
   "outputs": [],
   "source": [
    "#| export\n",
    "def get_preorder_traversal(\n",
    "  history: List[int] # list of node ids recording when each node is first visited and finished being visited\n",
    "  ) -> List[int]: # preorder traversal of the graph\n",
    "  \"\"\"Extract the preorder traversal from `history` by recording the order of\n",
    "  when each node is first discovered.\n",
    "  \"\"\"\n",
    "  preorder, seen = [], set()\n",
    "  for id_ in history:\n",
    "    if id_ not in seen:\n",
    "        seen.add(id_)\n",
    "        preorder.append(id_)\n",
    "  return preorder"
   ]
  },
  {
   "cell_type": "code",
   "execution_count": null,
   "metadata": {},
   "outputs": [],
   "source": [
    "#| export\n",
    "def get_graph_edges(\n",
    "  nodes: Dict[int, Node], # map from node id to node\n",
    "  preorder: List[int], # list of node ids where each node id is recorded when it is first discovered and finished being explored, \n",
    "  node_to_edge_labels: Dict[int, str] # map from node id to edge label\n",
    "  ) -> Dict[tuple, str]: # map from an edge to label (an edge is a tuple of two node ids)\n",
    "  \"\"\"Convert the preorder traversal `preorder` into a list of edges that define\n",
    "  the graph of recursive function calls.\n",
    "\n",
    "  Extract the edges from the preorder traversal by analyzing the depth of\n",
    "  each node. Collect all the edges and then map each edges to a string label.\n",
    "\n",
    "  **References:**\n",
    "\n",
    "  1. Inspired by lee215's\n",
    "  [solution](https://leetcode.com/problems/recover-a-tree-from-preorder-traversal/discuss/274621/JavaC%2B%2BPython-Iterative-Stack-Solution)\n",
    "  to *Leetcode 1028. Recover a Tree From Preorder Traversal*.\n",
    "  \"\"\"\n",
    "  \n",
    "  edge_to_label, stack = {}, []\n",
    "  for id_ in preorder:\n",
    "    while len(stack) > nodes[id_].depth:\n",
    "      stack.pop()\n",
    "    if stack:\n",
    "      edge_to_label[(stack[-1], id_)] = node_to_edge_labels[id_]\n",
    "    stack.append(id_)\n",
    "  return edge_to_label"
   ]
  },
  {
   "cell_type": "code",
   "execution_count": null,
   "metadata": {},
   "outputs": [],
   "source": [
    "#| export\n",
    "def get_graph(\n",
    "    history: List[int], # list of node ids recording when each node is first visited and finished being visited\n",
    "    nodes: Dict[int, Node], # map from node id to node\n",
    "    node_to_edge_labels: Dict[tuple, str] # map from a node to an edge label\n",
    "    ): # `networkx` graph of recursive function calls and dictionary mapping each edge to a label (an edge is a tuple of two node ids)\n",
    "    \"\"\"Convert the history of recursive function calls, into a `networkx` graph of\n",
    "    recursive function calls with optionally labeled edges.  \n",
    "    \n",
    "    The graph is constructed by 1) extracting the preorder traversal of the\n",
    "    graph from `history` and then 2) extracting the edges of the graph based on\n",
    "    the depth of each node in the preorder traversal. \n",
    "    \"\"\"\n",
    "\n",
    "    # get the preorder traversal; extract the edges of the recursive function call graph\n",
    "    preorder = get_preorder_traversal(history)\n",
    "    edge_to_label = get_graph_edges(nodes, preorder, node_to_edge_labels)\n",
    "\n",
    "    # create a `networkx` graph object from the edges\n",
    "    DG = nx.DiGraph()\n",
    "    DG.add_edges_from(list(edge_to_label.keys()))\n",
    "    return DG, edge_to_label"
   ]
  },
  {
   "cell_type": "markdown",
   "metadata": {},
   "source": [
    "#| hide\n",
    "# Test"
   ]
  },
  {
   "cell_type": "code",
   "execution_count": null,
   "metadata": {},
   "outputs": [],
   "source": [
    "#| hide\n",
    "\n",
    "edges = [(0, 1), (1, 2), (2, 3), (2, 4), (1, 5), (0, 6), (6, 7), (6, 8)]\n",
    "DG_test = nx.DiGraph()\n",
    "DG_test.add_edges_from(edges)\n",
    "\n",
    "\n",
    "\n"
   ]
  },
  {
   "cell_type": "code",
   "execution_count": null,
   "metadata": {},
   "outputs": [],
   "source": [
    "#| hide\n",
    "import nbdev; nbdev.nbdev_export()"
   ]
  }
 ],
 "metadata": {
  "kernelspec": {
   "display_name": "Python 3.8.9 64-bit",
   "language": "python",
   "name": "python3"
  }
 },
 "nbformat": 4,
 "nbformat_minor": 2
}
