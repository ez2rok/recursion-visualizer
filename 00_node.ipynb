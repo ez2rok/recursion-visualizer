{
 "cells": [
  {
   "cell_type": "markdown",
   "metadata": {},
   "source": [
    "# node\n",
    "\n",
    "> A class to store information about each node"
   ]
  },
  {
   "cell_type": "code",
   "execution_count": null,
   "metadata": {},
   "outputs": [],
   "source": [
    "#| default_exp node"
   ]
  },
  {
   "cell_type": "code",
   "execution_count": null,
   "metadata": {},
   "outputs": [],
   "source": [
    "#| hide\n",
    "from nbdev.showdoc import *"
   ]
  },
  {
   "cell_type": "code",
   "execution_count": null,
   "metadata": {},
   "outputs": [],
   "source": [
    "#| export\n",
    "class Node:\n",
    "    \"A node\"\n",
    "    def __init__(self, \n",
    "                 my_id: int, # a unique id for the node\n",
    "                 input:tuple = None, # the input to the function represented by the node\n",
    "                 output:any = None, # the output of the function represented by the node\n",
    "                 depth: int = None, # the depth of the node in the graph\n",
    "                 discovery:int = None, # the time the node was first discovered in the graph traversal\n",
    "                 finish: int = None,): # the time the node (and its descendants) were finished being explored in the graph traversal\n",
    "        self.id = my_id\n",
    "        self.input = input\n",
    "        self.output = output\n",
    "        self.depth = depth\n",
    "        self.discovered = discovery\n",
    "        self.finish = finish\n",
    "        \n",
    "    def __repr__(self):\n",
    "        return '<Node {}> f{}={}'.format(self.id, self.input, self.output)\n",
    "    \n",
    "    def __str__(self):\n",
    "        return self.__repr__()\n",
    "    \n",
    "    def __eq__(self, other:'Node'):\n",
    "        return type(self) == type(other) and self.id == other.id   "
   ]
  },
  {
   "cell_type": "code",
   "execution_count": null,
   "metadata": {},
   "outputs": [],
   "source": [
    "#| hide\n",
    "import nbdev; nbdev.nbdev_export()"
   ]
  }
 ],
 "metadata": {
  "kernelspec": {
   "display_name": "Python 3.10.4 ('recursion-visualizer')",
   "language": "python",
   "name": "python3"
  }
 },
 "nbformat": 4,
 "nbformat_minor": 4
}
