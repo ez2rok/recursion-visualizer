{
 "cells": [
  {
   "cell_type": "code",
   "execution_count": null,
   "metadata": {},
   "outputs": [],
   "source": [
    "%load_ext autoreload\n",
    "%autoreload 2"
   ]
  },
  {
   "cell_type": "markdown",
   "metadata": {},
   "source": [
    "# node\n",
    "\n",
    "> A class to store information about each node"
   ]
  },
  {
   "cell_type": "code",
   "execution_count": null,
   "metadata": {},
   "outputs": [],
   "source": [
    "#| default_exp node"
   ]
  },
  {
   "cell_type": "code",
   "execution_count": null,
   "metadata": {},
   "outputs": [],
   "source": [
    "#| hide\n",
    "from nbdev.showdoc import *"
   ]
  },
  {
   "cell_type": "code",
   "execution_count": null,
   "metadata": {},
   "outputs": [],
   "source": [
    "#| export\n",
    "class Node:\n",
    "    \"A node\"\n",
    "    def __init__(self, \n",
    "                 my_id: int, # a unique id for the node\n",
    "                 input:tuple = None, # the input to the function represented by the node\n",
    "                 output:any = None, # the output of the function represented by the node\n",
    "                 depth: int = None, # the depth of the node in the graph (starting at 0)\n",
    "                 discovery:int = None, # the time the node was first discovered in the graph traversal\n",
    "                 finish: int = None,): # the time the node (and its descendants) were finished being explored in the graph traversal\n",
    "        self.id = my_id\n",
    "        self.input = input\n",
    "        self.output = output\n",
    "        self.depth = depth\n",
    "        self.discovered = discovery\n",
    "        self.finish = finish\n",
    "        \n",
    "    def __repr__(self):\n",
    "        return '<Node {}> f({})={} d={}, f={}'.format(self.id, self.input, self.output, self.discovered, self.finish)\n",
    "    \n",
    "    def __str__(self):\n",
    "        return self.__repr__()\n",
    "    \n",
    "    def __eq__(self, other:'Node'):\n",
    "        return type(self) == type(other) and self.id == other.id   "
   ]
  },
  {
   "cell_type": "markdown",
   "metadata": {},
   "source": [
    "This class records standard information about nodes in a graph:\n",
    "\n",
    "* `id`\n",
    "* `depth`\n",
    "* `discovered`\n",
    "* `finish`\n",
    " \n",
    "However, in `recursion-visualizer`, each node represents a call to a recursive function so we store additional values:\n",
    "\n",
    "* `input`\n",
    "* `output`\n",
    "which represent the input and output to the recursive function."
   ]
  },
  {
   "cell_type": "markdown",
   "metadata": {},
   "source": [
    "## Time\n",
    "\n",
    "The `discovered` and `finish` 'times' do not refer to the runtime or literal time of day. Instead this 'time' is a way to record helpful information about the graph traversal. This `time` begins at zero and is incremented by one when a node is first discovered or when it (and its descandents) are completly finished being explored. In the context of storing recursive calls, `discovered` is when the recursive call is first made and `finished` is when the recursive call (and its subsequent functions calls) have finished executing."
   ]
  },
  {
   "cell_type": "markdown",
   "metadata": {},
   "source": [
    "## Example"
   ]
  },
  {
   "cell_type": "code",
   "execution_count": null,
   "metadata": {},
   "outputs": [],
   "source": [
    "#| hide\n",
    "import nbdev; nbdev.nbdev_export()"
   ]
  }
 ],
 "metadata": {
  "kernelspec": {
   "display_name": "Python 3.10.4 ('recursion-visualizer')",
   "language": "python",
   "name": "python3"
  }
 },
 "nbformat": 4,
 "nbformat_minor": 4
}
