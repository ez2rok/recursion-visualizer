{
 "cells": [
  {
   "cell_type": "code",
   "execution_count": null,
   "metadata": {},
   "outputs": [],
   "source": [
    "#| hide\n",
    "%load_ext autoreload\n",
    "%autoreload 2"
   ]
  },
  {
   "cell_type": "markdown",
   "metadata": {},
   "source": [
    "# node\n",
    "\n",
    "> A class to store information about each recursive function call"
   ]
  },
  {
   "cell_type": "markdown",
   "metadata": {},
   "source": [
    "Each node represents a single recursive function call. Together, a graph of these nodes\n",
    "show which functions recursively call which other functions. This can be very\n",
    "helpful in developing an intutive understanding of each recursive call.\n",
    "\n",
    "Other functions will thus build upon the `Node` class to create the animated\n",
    "graph of recursive function calls."
   ]
  },
  {
   "cell_type": "code",
   "execution_count": null,
   "metadata": {},
   "outputs": [],
   "source": [
    "#| default_exp node"
   ]
  },
  {
   "cell_type": "code",
   "execution_count": null,
   "metadata": {},
   "outputs": [],
   "source": [
    "#| export\n",
    "from fastcore.test import * "
   ]
  },
  {
   "cell_type": "code",
   "execution_count": null,
   "metadata": {},
   "outputs": [],
   "source": [
    "#| hide\n",
    "from nbdev.showdoc import *"
   ]
  },
  {
   "cell_type": "code",
   "execution_count": null,
   "metadata": {},
   "outputs": [],
   "source": [
    "#| export\n",
    "class Node:\n",
    "    \"A node\"\n",
    "    \n",
    "    def __init__(self, \n",
    "                 id_: int = None, # a unique id for the node\n",
    "                 input:tuple = None, # the input to the function represented by the node\n",
    "                 output:any = None, # the output of the function represented by the node\n",
    "                 depth: int = None, # the depth of the node in the graph (starting at 0)\n",
    "                 discovered:int = None, # the time the node was first discovered in the graph traversal\n",
    "                 finish: int = None,): # the time the node (and its descendants) were finished being explored in the graph traversal\n",
    "        self.id_ = id_\n",
    "        self.input = input\n",
    "        self.output = output\n",
    "        self.depth = depth\n",
    "        self.discovered = discovered\n",
    "        self.finish = finish\n",
    "        \n",
    "    def __repr__(self):\n",
    "        return '<Node {}> f{}={} d={}, f={}'.format(self.id_, self.input, self.output, self.discovered, self.finish)\n",
    "    \n",
    "    def __str__(self):\n",
    "        return self.__repr__()\n",
    "    \n",
    "    def __eq__(self, other:'Node'):\n",
    "        return type(self) == type(other) and self.id_ == other.id_"
   ]
  },
  {
   "cell_type": "markdown",
   "metadata": {},
   "source": [
    "This class records standard information about nodes in a graph: `id`, `depth`,\n",
    "`discovered`, and `finish`. However, in `recursion-visualizer`, each node\n",
    "represents a call to a recursive function so we store additional values: `input`\n",
    "and `output` which represent the input and output to the recursive function."
   ]
  },
  {
   "cell_type": "markdown",
   "metadata": {},
   "source": [
    "## Time\n",
    "\n",
    "The `discovered` time and `finish` time do not refer to the runtime or literal time\n",
    "of day. Instead this time is a way to record helpful information about the\n",
    "graph traversal. This time begins at zero and is incremented by one when a\n",
    "node is first discovered or when it (and its descandents) are completly finished\n",
    "being explored. In the context of storing recursive calls, `discovered` is when\n",
    "the recursive call is first made and its execution begins. `finished` is when\n",
    "the recursive call (and its subsequent functions calls) have all finished executing."
   ]
  },
  {
   "cell_type": "markdown",
   "metadata": {},
   "source": [
    "#| hide\n",
    "## Testcases"
   ]
  },
  {
   "cell_type": "code",
   "execution_count": null,
   "metadata": {},
   "outputs": [],
   "source": [
    "#| hide\n",
    "id = 0 \n",
    "input = (3,)\n",
    "output = 2\n",
    "depth = 0\n",
    "discovery = 0\n",
    "finish = 4\n",
    "\n",
    "\n",
    "node1 = Node(id, input, output, depth, discovery, finish)\n",
    "node2 = Node(id, input, output, depth, discovery, finish)\n",
    "node3 = Node(id, input, output, depth+3, discovery, finish)\n",
    "node4 = Node(id+1, input, output, depth, discovery, finish)\n",
    "\n",
    "test_eq(node1, node2) # same everything\n",
    "test_eq(node1, node3) # same id but different depth\n",
    "test_ne(node1, node4) # different id but same everything else"
   ]
  },
  {
   "cell_type": "code",
   "execution_count": null,
   "metadata": {},
   "outputs": [],
   "source": [
    "#| hide\n",
    "import nbdev; nbdev.nbdev_export()"
   ]
  }
 ],
 "metadata": {
  "kernelspec": {
   "display_name": "Python 3.10.6 ('recursion-visualizer')",
   "language": "python",
   "name": "python3"
  }
 },
 "nbformat": 4,
 "nbformat_minor": 4
}
