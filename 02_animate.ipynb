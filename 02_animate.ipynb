{
 "cells": [
  {
   "cell_type": "markdown",
   "metadata": {},
   "source": [
    "# animate\n",
    "\n",
    "> Animate the graph of recursive functions calls"
   ]
  },
  {
   "cell_type": "code",
   "execution_count": null,
   "metadata": {},
   "outputs": [],
   "source": [
    "#| default_exp animate"
   ]
  },
  {
   "cell_type": "code",
   "execution_count": null,
   "metadata": {},
   "outputs": [],
   "source": [
    "#| export\n",
    "from recursion_visualizer.node import Node \n",
    "from recursion_visualizer.graph import get_graph"
   ]
  },
  {
   "cell_type": "code",
   "execution_count": null,
   "metadata": {},
   "outputs": [],
   "source": [
    "#| export\n",
    "import networkx as nx\n",
    "import plotly.graph_objects as go\n",
    "\n",
    "from typing import List, Dict\n",
    "from plotly.subplots import make_subplots"
   ]
  },
  {
   "cell_type": "markdown",
   "metadata": {},
   "source": [
    "## Node and Edge Coordinates"
   ]
  },
  {
   "cell_type": "code",
   "execution_count": null,
   "metadata": {},
   "outputs": [],
   "source": [
    "#| export\n",
    "def get_node_and_edge_coordinates(\n",
    "  DG, # `networkx` graph of recursive function calls\n",
    "  ) -> List[List[int]]: # list of x and y coordinates for placing nodes and edges on 2D plot\n",
    "  \"\"\"Given a map of edges to labels, create a `networkx` graph and use its\n",
    "  layout function to return a list of x and y coordinates for placing nodes and edges on\n",
    "  a 2D plot.\"\"\"\n",
    "\n",
    "  # get the (x, y) coordinates of each node in the graph\n",
    "  coordinates = nx.drawing.nx_agraph.graphviz_layout(DG, prog=\"dot\", root=0)\n",
    "\n",
    "  # record the (x, y) coordinates of each node\n",
    "  node_x, node_y = [], []\n",
    "  for x, y in coordinates.values():\n",
    "    node_x.append(x)\n",
    "    node_y.append(y)\n",
    "\n",
    "  # record the (x, y) coordinates of each edge\n",
    "  edge_x, edge_y = [], []\n",
    "  for edge in DG.edges():\n",
    "        x0, y0 = coordinates[edge[0]]\n",
    "        x1, y1 = coordinates[edge[1]]\n",
    "        edge_x += [x0, x1, None]\n",
    "        edge_y += [y0, y1, None]\n",
    "\n",
    "  return node_x, node_y, edge_x, edge_y"
   ]
  },
  {
   "cell_type": "markdown",
   "metadata": {},
   "source": [
    "## Text"
   ]
  },
  {
   "cell_type": "code",
   "execution_count": null,
   "metadata": {},
   "outputs": [],
   "source": [
    "#| export\n",
    "def get_node_text(\n",
    "   nodes: Dict[int, Node], # map of node ids to nodes\n",
    "   func_name: str, # name of the recursive function\n",
    "   ) -> List[List[str]]: # text(s) to be displayed on each node\n",
    "   \"\"\"Return the text(s) to be displayed on each node. Specifically, return\n",
    "  \n",
    "   1. `max_node_length`: the length of the longest node annotation text; used to\n",
    "      determine the size of the node (in pixels)\n",
    "   2. `node_annotations`: the text that appears in each node; this is set to be the\n",
    "      input to the recursive function\n",
    "   3. `hovertext`: the text that appears when the user hovers over a node in\n",
    "      the graph; this is set to the input+output to the recursive function and the\n",
    "      discovery+finish times of the recursive function.\n",
    "   \"\"\"\n",
    "  \n",
    "   hovertext, node_annotations = [], []\n",
    "   max_node_length = 0\n",
    "\n",
    "   for node in nodes.values():\n",
    "      function_input = ','.join(list(map(str, node.input)))\n",
    "      text = '{}({})={}'.format(func_name, function_input, node.output)\n",
    "      text += '<br>discover: {}<br>finish: {}'.format(node.discovered, node.finish)\n",
    "\n",
    "      node_annotations.append(function_input)\n",
    "      max_node_length = max(max_node_length, len(function_input))\n",
    "      hovertext.append(text)\n",
    "   return max_node_length, node_annotations, hovertext"
   ]
  },
  {
   "cell_type": "code",
   "execution_count": null,
   "metadata": {},
   "outputs": [],
   "source": [
    "#| export\n",
    "def get_edge_text(\n",
    "      node_x: List[int], # x coordinates of nodes\n",
    "      node_y: List[int], # y coordinates of nodes\n",
    "      edge_to_label: Dict[tuple, str], # map of edges to labels (edge is a tuple of two node ids)\n",
    "      ) -> List[str]: # text(s) to be displayed on each edge\n",
    "      \"\"\"Return the text(s) to be displayed on each edge. This is optional and\n",
    "      by default will display an empty string along each edge. Specifically, return\n",
    "      \n",
    "      1. `edge_text`: the text that appears along each edge; this is set to be\n",
    "         `edge_label`, a keyword found in the decorated recursive function.\n",
    "      \"\"\"\n",
    "\n",
    "      # initial values\n",
    "      buffer = 5\n",
    "      edge_annotations = []\n",
    "\n",
    "      for i, ((node1, node2), label) in enumerate(edge_to_label.items()):\n",
    "            x1, y1 = node_x[node1], node_y[node1]\n",
    "            x2, y2 = node_x[node2], node_y[node2]\n",
    "            edge_annotations.append(\n",
    "                  dict(text=label,\n",
    "                        x=(x1+x2)/2 + buffer, y=(y1+y2)/2 + buffer,\n",
    "                        xref='x1', yref='y1',\n",
    "                        font=dict(color='rgb(0,0,0)', size=10),\n",
    "                        showarrow=False)\n",
    "                  )\n",
    "      return edge_annotations    "
   ]
  },
  {
   "cell_type": "code",
   "execution_count": null,
   "metadata": {},
   "outputs": [],
   "source": [
    "#| export\n",
    "def get_link_annotation(\n",
    "    ) -> List[dict]: # text that links to this library's GitHub repo\n",
    "    \"\"\"Return the (formatted) text that links to this library's GitHub repo.\"\"\"\n",
    "    \n",
    "    return [dict(\n",
    "        text=\"Made with <a href='https://github.com/ez2rok/recursion-visualizer'>Recursion Visualizer</a>\",\n",
    "        showarrow=False,\n",
    "        x=0.005, y=-0.002,\n",
    "        xref=\"paper\", yref=\"paper\",\n",
    "        )\n",
    "    ]"
   ]
  },
  {
   "cell_type": "code",
   "execution_count": null,
   "metadata": {},
   "outputs": [],
   "source": [
    "#| export\n",
    "def get_title(\n",
    "    nodes: Dict[int, Node], # map of node ids to nodes\n",
    "    func_name: str, # name of the recursive function\n",
    "    ) -> str: # title of the graph\n",
    "    \"\"\"Return the (formatted) title of the graph\"\"\"\n",
    "    \n",
    "    function_input = ','.join(list(map(str, nodes[0].input)))\n",
    "    title_text = 'Recursive Tree: {}({})'.format(func_name, function_input)\n",
    "    return {\n",
    "        'text': title_text,\n",
    "        'y':0.95,\n",
    "        'x':0.02,\n",
    "        'xanchor': 'left',\n",
    "        'yanchor': 'top'\n",
    "        }"
   ]
  },
  {
   "cell_type": "markdown",
   "metadata": {},
   "source": [
    "## Graphics"
   ]
  },
  {
   "cell_type": "code",
   "execution_count": null,
   "metadata": {},
   "outputs": [],
   "source": [
    "#| export\n",
    "def get_slider() -> dict: # slider to control the animation\n",
    "  \"\"\"Return the slider that allows the user to control the animation\"\"\"\n",
    "    \n",
    "  return {\n",
    "      \"active\": 0,\n",
    "      \"yanchor\": \"top\",\n",
    "      \"xanchor\": \"left\",\n",
    "      \"currentvalue\": {\n",
    "          \"font\": {\"size\": 20},\n",
    "          \"prefix\": \"Time:\",\n",
    "          \"visible\": True,\n",
    "          \"xanchor\": \"right\"\n",
    "      },\n",
    "      \"transition\": {\"duration\": 300, \"easing\": \"cubic-in-out\"},\n",
    "      \"pad\": {\"b\": 5, \"t\": 5},\n",
    "      \"len\": 0.9,\n",
    "      \"x\": 0.1,\n",
    "      \"y\": 0,\n",
    "      \"steps\": []\n",
    "  }"
   ]
  },
  {
   "cell_type": "code",
   "execution_count": null,
   "metadata": {},
   "outputs": [],
   "source": [
    "#| export\n",
    "def update_slider(\n",
    "  slider: dict, # slider that allows the user to control the animation \n",
    "  time: int, # current time\n",
    "  ) -> dict: # updated slider\n",
    "  \"\"\"Update the slider with the current time\"\"\"\n",
    "    \n",
    "  slider_step = {\n",
    "      \"args\": [[time],\n",
    "               {\"frame\": {\"duration\": 300, \"redraw\": False},\n",
    "                \"mode\": \"immediate\",\n",
    "                \"transition\": {\"duration\": 300}}\n",
    "               ],\n",
    "               \"label\": time,\n",
    "                \"method\": \"animate\"\n",
    "                }\n",
    "  slider[\"steps\"].append(slider_step)"
   ]
  },
  {
   "cell_type": "code",
   "execution_count": null,
   "metadata": {},
   "outputs": [],
   "source": [
    "#| export\n",
    "def get_play_pause_buttons() -> List[dict]: # play/pause buttons\n",
    "    \"\"\"Return the play/pause buttons\n",
    "    \n",
    "    **References**:\n",
    "    \n",
    "    1. Heavily inspired by [Plotly animation\n",
    "       tutorial](https://plotly.com/python/animations/#using-a-slider-and-buttons)\n",
    "    \"\"\"\n",
    "    return [\n",
    "    {\"buttons\": \n",
    "     [{\"args\": [None, {\"frame\": {\"duration\": 500, \"redraw\": False},\n",
    "                       \"fromcurrent\": True, \n",
    "                       \"transition\": {\"duration\": 300, \"easing\": \"quadratic-in-out\"}\n",
    "                       }\n",
    "                ],\n",
    "       \"label\": \"Play\",\n",
    "       \"method\": \"animate\"\n",
    "       },\n",
    "      {\"args\": [[None], {\"frame\": {\"duration\": 0, \"redraw\": False},\n",
    "                         \"mode\": \"immediate\",\n",
    "                         \"transition\": {\"duration\": 0}\n",
    "                         }\n",
    "                ],\n",
    "       \"label\": \"Pause\",\n",
    "       \"method\": \"animate\"\n",
    "       }\n",
    "      ],\n",
    "     \"direction\": \"up\",\n",
    "     \"pad\": {\"r\": 20, \"t\": 15},\n",
    "     \"showactive\": True,\n",
    "     \"type\": \"buttons\",\n",
    "     \"x\": 0.1,\n",
    "     \"xanchor\": \"right\",\n",
    "     \"y\": 0,\n",
    "     \"yanchor\": \"top\"\n",
    "     }\n",
    "     ]"
   ]
  },
  {
   "cell_type": "code",
   "execution_count": null,
   "metadata": {},
   "outputs": [],
   "source": [
    "#| export\n",
    "def get_axis_settings() -> dict: # axis settings\n",
    "  \"\"\"Return the axis settings\"\"\"\n",
    "  \n",
    "  return dict(showline=False,\n",
    "              zeroline=False,\n",
    "              showgrid=False,\n",
    "              showticklabels=False\n",
    "              )"
   ]
  },
  {
   "cell_type": "markdown",
   "metadata": {},
   "source": [
    "## Generate Animation"
   ]
  },
  {
   "cell_type": "code",
   "execution_count": null,
   "metadata": {},
   "outputs": [],
   "source": [
    "#| export\n",
    "def animate(history,nodes,\n",
    "            func_name, \n",
    "            DG, \n",
    "            edge_to_label\n",
    "            ):\n",
    "  \n",
    "  # get node and edge coordinates\n",
    "  node_x, node_y, edge_x, edge_y = get_node_and_edge_coordinates(DG)\n",
    "  \n",
    "  # get text to be displayed on the nodes, edges, and figure\n",
    "  max_node_length, node_annotations, hovertext = get_node_text(nodes, func_name)\n",
    "  edge_annotations = get_edge_text(node_x, node_y, edge_to_label)\n",
    "  link_annotation = get_link_annotation()\n",
    "  title = get_title(nodes, func_name)\n",
    "  \n",
    "  # get graphics\n",
    "  slider = get_slider()\n",
    "  axis_settings = get_axis_settings()\n",
    "  buttons = get_play_pause_buttons()\n",
    "\n",
    "  # keep track of the visit status of each node at each time step:\n",
    "  #   0 -> unvisited\n",
    "  #   1 -> visiting\n",
    "  #   2 -> visited\n",
    "  # This is used to color the node circles and the node text.\n",
    "  visit = [0] * len(nodes)\n",
    "  visit_to_text_color =  {0: 'rgb(0,0,0)', 1: 'rgb(255, 255, 255)', 2: 'rgb(255, 255, 255)'}\n",
    "  node_text_color = [visit_to_text_color[visit[id_]] for id_ in nodes.keys()]\n",
    "\n",
    "  # get frames\n",
    "  frames = []\n",
    "  fig = make_subplots(specs=[[{\"secondary_y\": True}]])\n",
    "  for time, node_id in enumerate([None] + history):\n",
    "    \n",
    "    # update visit status, node text color, and circle color\n",
    "    # Note: circle color is determined by `visit`` so by updating `visit`, we've updated circle color\n",
    "    if node_id != None:\n",
    "      visit[node_id] += 1\n",
    "      node_text_color[node_id] = visit_to_text_color[visit[node_id]]\n",
    "\n",
    "    # plot nodes\n",
    "    node_trace = go.Scatter(\n",
    "        x=node_x, y=node_y,\n",
    "        mode='markers+text',\n",
    "        hovertext=hovertext,\n",
    "        hoverinfo='text',\n",
    "        text=node_annotations,\n",
    "        #textfont={'color': node_annotation_colors[time]},\n",
    "        textfont={'color': node_text_color},\n",
    "        marker={'line': dict(color='rgb(50,50,50)', width=1),\n",
    "                'color': visit,\n",
    "                'cmid': 1,\n",
    "                'colorscale': [(0.00, '#F7FBFF'), (0.33, '#F7FBFF'),\n",
    "                               (0.33, '#6AAED6'), (0.66, '#6AAED6'),\n",
    "                               (0.66, '#0A306B'), (1.00, '#0A306B')\n",
    "                               ], # colors taken from px.colors.sequential.Blues\n",
    "                'size': 10 + 7*max_node_length},\n",
    "        showlegend=False,\n",
    "        ids=list(nodes.keys())\n",
    "        )\n",
    "    \n",
    "    # plot edges\n",
    "    edge_trace = go.Scatter(\n",
    "        x=edge_x, y=edge_y,\n",
    "        line=dict(width=1, color='#888'),\n",
    "        hoverinfo='none',\n",
    "        mode='lines',\n",
    "        showlegend=False,\n",
    "        textposition=\"bottom right\"\n",
    "        )\n",
    "    \n",
    "    # updates frames and slider\n",
    "    frame = go.Frame(data=[node_trace, edge_trace], name=str(time))\n",
    "    frames.append(frame)\n",
    "    update_slider(slider, time)\n",
    "\n",
    "  # create layout\n",
    "  layout = go.Layout(\n",
    "      title=title,\n",
    "      xaxis=axis_settings,\n",
    "      yaxis=axis_settings,\n",
    "      annotations=link_annotation+edge_annotations,\n",
    "      margin=dict(b=0,l=5,r=5,t=5),\n",
    "      updatemenus=buttons,\n",
    "      sliders=[slider]\n",
    "      )\n",
    "\n",
    "  fig = go.Figure(data=frames[0]['data'], layout=layout, frames=frames[1:])\n",
    "  return fig"
   ]
  },
  {
   "cell_type": "markdown",
   "metadata": {},
   "source": [
    "# Memoize Class"
   ]
  },
  {
   "cell_type": "code",
   "execution_count": null,
   "metadata": {},
   "outputs": [],
   "source": [
    "#| export\n",
    "class Memoize:\n",
    "  \"\"\"A class that provides a decorator for visualizing recursion trees and caching results.\"\"\"\n",
    "\n",
    "  def __init__(self,\n",
    "               verbose: bool = False, # if true, print all nodes\n",
    "               animate: bool = True, # if true, create an animation of the recursion tree\n",
    "               save: bool = False, # if true, save the animation to a html file\n",
    "               path: str ='', # path to save the animation to\n",
    "               ): \n",
    "    \n",
    "    self.verbose = verbose\n",
    "    self.animate = animate\n",
    "    self.save = save\n",
    "    self.path = path\n",
    "    self._reset()\n",
    "\n",
    "  def _reset(self):\n",
    "    \"\"\"\n",
    "    self.nodes = preorder traversal of nodes\n",
    "    self.history = element i was discovered or finished at time i\n",
    "    self.pos = position of vertices in animate\n",
    "    \"\"\"\n",
    "    self.nodes, self.node_to_edge_labels, self.history = {}, {}, []\n",
    "    self.id_, self.time, self.depth = 0, 0, 0\n",
    "    self.cache = {}\n",
    "    self.func_name = ''\n",
    "\n",
    "  def _animate(self, history, nodes, node_to_edge_labels, func_name):\n",
    "    \n",
    "    DG, edge_to_label = get_graph(history, nodes, node_to_edge_labels)\n",
    "    fig = animate(history, nodes, func_name, DG, edge_to_label)\n",
    "    # HTML(fig.to_html())\n",
    "    fig.show()\n",
    "    return fig\n",
    "\n",
    "\n",
    "\n",
    "    # # create recursion tree animation\n",
    "    # fig = animate(history, nodes, func_name)\n",
    "    # fig.show()\n",
    "\n",
    "    # # save figure\n",
    "    # if self.save:\n",
    "    #   if self.path == '':\n",
    "    #     input = ','.join(list(map(str, nodes[0]['input'])))\n",
    "    #     self.path = './{}_{}.html'.format(func_name, input)\n",
    "    #   fig.write_html(self.path)\n",
    "\n",
    "  def __call__(self, \n",
    "               func: callable # function to be visualized or cached via decorator\n",
    "               ):\n",
    "    \"\"\"A custom `__call__` function records the id, function input, function output, depth, discovery time, \n",
    "    and finish time in a node each time the function is called. After all function calls are made, `__call__`\n",
    "    will animate the recursion tree. This is the main workhorse of the `RecursionVisualizer` class.\n",
    "    \n",
    "    At a high-level, the `__call__` function looks something like:\n",
    "    \n",
    "    ```\n",
    "    def __call__(self, func):\n",
    "      def memoized_func(*args, **kwargs):\n",
    "        # record discovery time, function input, and depth\n",
    "        node.discovery = time\n",
    "        node.input = args\n",
    "        node.depth = depth\n",
    "        \n",
    "        # if node not in cache, compute and cache result\n",
    "        if node not in self.cache:\n",
    "          self.cache[args] = func(*args, **kwargs)\n",
    "          \n",
    "        # record finish time and function output\n",
    "        node.output = self.cache[args]\n",
    "        node.finish = time\n",
    "        \n",
    "        if depth == 0:\n",
    "          animate()\n",
    "        \n",
    "      return memoized_func\n",
    "    ```\n",
    "    \"\"\"\n",
    "\n",
    "    def memoized_func(*args, **kwargs):\n",
    "      if self.depth == 0:\n",
    "        self._reset()\n",
    "\n",
    "      # record node's depth, discovery time, and input arguments\n",
    "      id_ = len(self.nodes)\n",
    "      node = Node(id_=id_, input=args, depth=self.depth, discovered=self.time)\n",
    "      self.history.append(node.id_)\n",
    "      self.nodes[node.id_] = node\n",
    "      self.time += 1\n",
    "\n",
    "      # update depth and call the function `func`\n",
    "      self.depth += 1\n",
    "      # if args not in self.cache:\n",
    "      self.cache[args] = func(*args, **kwargs)\n",
    "      self.depth -= 1\n",
    "\n",
    "      # record node's output, finish time, history, and edge_label\n",
    "      self.nodes[id_].output = self.cache[args]\n",
    "      self.nodes[id_].finish = self.time\n",
    "      \n",
    "      self.node_to_edge_labels[id_] = kwargs['edge_label'] if kwargs and 'edge_label' in kwargs else ''\n",
    "      self.history.append(node.id_)\n",
    "      self.time += 1\n",
    "\n",
    "      if self.verbose:\n",
    "        print(node)\n",
    "\n",
    "      # animate after done traversing through the entire tree\n",
    "      if self.animate and self.depth == 0:\n",
    "        fig = self._animate(self.history, self.nodes, self.node_to_edge_labels, func.__name__)\n",
    "        return fig, self.cache[args]\n",
    "\n",
    "      return self.cache[args]\n",
    "    return memoized_func"
   ]
  },
  {
   "cell_type": "code",
   "execution_count": null,
   "metadata": {},
   "outputs": [],
   "source": [
    "#F7FBFF Light blue\n",
    "#6AAED6 Medium Blue\n",
    "#0A306B Dark Blueh"
   ]
  },
  {
   "cell_type": "code",
   "execution_count": null,
   "metadata": {},
   "outputs": [],
   "source": [
    "#| export\n",
    "import plotly.io as pio\n",
    "from IPython.display import display, HTML\n",
    "from IPython import get_ipython"
   ]
  },
  {
   "cell_type": "code",
   "execution_count": null,
   "metadata": {},
   "outputs": [
    {
     "data": {
      "text/html": [
       "<script src=\"https://cdnjs.cloudflare.com/ajax/libs/require.js/2.3.6/require.min.js\" integrity=\"sha512-c3Nl8+7g4LMSTdrm621y7kf9v3SDPnhxLNhcjFJbKECVnmZHTdo+IRO05sNLTH/D3vA6u1X32ehoLC7WFVdheg==\" crossorigin=\"anonymous\"></script>"
      ],
      "text/plain": [
       "<IPython.core.display.HTML object>"
      ]
     },
     "metadata": {},
     "output_type": "display_data"
    }
   ],
   "source": [
    "#| export\n",
    "def on_colab():   # cf https://stackoverflow.com/questions/53581278/test-if-notebook-is-running-on-google-colab\n",
    "    \"\"\"Returns true if code is being executed on Colab, false otherwise\"\"\"\n",
    "    try:\n",
    "        return 'google.colab' in str(get_ipython())\n",
    "    except NameError:    # no get_ipython, so definitely not on Colab\n",
    "        return False \n",
    "\n",
    "if not on_colab():  # Nick Burrus' code for normal-Juptyer use with plotly:\n",
    "    pio.renderers.default = 'notebook_connected'\n",
    "    js = '<script src=\"https://cdnjs.cloudflare.com/ajax/libs/require.js/2.3.6/require.min.js\" integrity=\"sha512-c3Nl8+7g4LMSTdrm621y7kf9v3SDPnhxLNhcjFJbKECVnmZHTdo+IRO05sNLTH/D3vA6u1X32ehoLC7WFVdheg==\" crossorigin=\"anonymous\"></script>'\n",
    "    display(HTML(js))"
   ]
  },
  {
   "cell_type": "code",
   "execution_count": null,
   "metadata": {},
   "outputs": [],
   "source": [
    "# on_colab()"
   ]
  },
  {
   "cell_type": "markdown",
   "metadata": {},
   "source": [
    "# Fibonacci Example"
   ]
  },
  {
   "cell_type": "code",
   "execution_count": null,
   "metadata": {},
   "outputs": [],
   "source": [
    "@Memoize()\n",
    "def fib(n, edge_label=''):\n",
    "  if n <= 2: return 1\n",
    "\n",
    "  val = 0\n",
    "  for decrement in [1, 2]:\n",
    "    val += fib(n-decrement, edge_label='-{}'.format(decrement))\n",
    "  return val"
   ]
  },
  {
   "cell_type": "code",
   "execution_count": null,
   "metadata": {},
   "outputs": [
    {
     "data": {
      "text/html": [
       "        <script type=\"text/javascript\">\n",
       "        window.PlotlyConfig = {MathJaxConfig: 'local'};\n",
       "        if (window.MathJax && window.MathJax.Hub && window.MathJax.Hub.Config) {window.MathJax.Hub.Config({SVG: {font: \"STIX-Web\"}});}\n",
       "        if (typeof require !== 'undefined') {\n",
       "        require.undef(\"plotly\");\n",
       "        requirejs.config({\n",
       "            paths: {\n",
       "                'plotly': ['https://cdn.plot.ly/plotly-2.14.0.min']\n",
       "            }\n",
       "        });\n",
       "        require(['plotly'], function(Plotly) {\n",
       "            window._Plotly = Plotly;\n",
       "        });\n",
       "        }\n",
       "        </script>\n",
       "        "
      ]
     },
     "metadata": {},
     "output_type": "display_data"
    },
    {
     "data": {
      "text/html": [
       "<div>                            <div id=\"681efb04-b1b5-44eb-bda2-f7d80c032715\" class=\"plotly-graph-div\" style=\"height:525px; width:100%;\"></div>            <script type=\"text/javascript\">                require([\"plotly\"], function(Plotly) {                    window.PLOTLYENV=window.PLOTLYENV || {};                                    if (document.getElementById(\"681efb04-b1b5-44eb-bda2-f7d80c032715\")) {                    Plotly.newPlot(                        \"681efb04-b1b5-44eb-bda2-f7d80c032715\",                        [{\"hoverinfo\":\"text\",\"hovertext\":[\"fib(5)=5<br>discover: 0<br>finish: 17\",\"fib(4)=3<br>discover: 1<br>finish: 10\",\"fib(3)=2<br>discover: 2<br>finish: 7\",\"fib(2)=1<br>discover: 3<br>finish: 4\",\"fib(1)=1<br>discover: 5<br>finish: 6\",\"fib(2)=1<br>discover: 8<br>finish: 9\",\"fib(3)=2<br>discover: 11<br>finish: 16\",\"fib(2)=1<br>discover: 12<br>finish: 13\",\"fib(1)=1<br>discover: 14<br>finish: 15\"],\"ids\":[0,1,2,3,4,5,6,7,8],\"marker\":{\"cmid\":1,\"color\":[0,0,0,0,0,0,0,0,0],\"colorscale\":[[0.0,\"#F7FBFF\"],[0.33,\"#F7FBFF\"],[0.33,\"#6AAED6\"],[0.66,\"#6AAED6\"],[0.66,\"#0A306B\"],[1.0,\"#0A306B\"]],\"line\":{\"color\":\"rgb(50,50,50)\",\"width\":1},\"size\":17},\"mode\":\"markers+text\",\"showlegend\":false,\"text\":[\"5\",\"4\",\"3\",\"2\",\"1\",\"2\",\"3\",\"2\",\"1\"],\"textfont\":{\"color\":[\"rgb(0,0,0)\",\"rgb(0,0,0)\",\"rgb(0,0,0)\",\"rgb(0,0,0)\",\"rgb(0,0,0)\",\"rgb(0,0,0)\",\"rgb(0,0,0)\",\"rgb(0,0,0)\",\"rgb(0,0,0)\"]},\"x\":[171.0,135.0,63.0,27.0,99.0,135.0,207.0,207.0,279.0],\"y\":[234.0,162.0,90.0,18.0,18.0,90.0,162.0,90.0,90.0],\"type\":\"scatter\"},{\"hoverinfo\":\"none\",\"line\":{\"color\":\"#888\",\"width\":1},\"mode\":\"lines\",\"showlegend\":false,\"textposition\":\"bottom right\",\"x\":[171.0,135.0,null,171.0,207.0,null,135.0,63.0,null,135.0,135.0,null,63.0,27.0,null,63.0,99.0,null,207.0,207.0,null,207.0,279.0,null],\"y\":[234.0,162.0,null,234.0,162.0,null,162.0,90.0,null,162.0,90.0,null,90.0,18.0,null,90.0,18.0,null,162.0,90.0,null,162.0,90.0,null],\"type\":\"scatter\"}],                        {\"annotations\":[{\"showarrow\":false,\"text\":\"Made with <a href='https://github.com/ez2rok/recursion-visualizer'>Recursion Visualizer</a>\",\"x\":0.005,\"xref\":\"paper\",\"y\":-0.002,\"yref\":\"paper\"},{\"font\":{\"color\":\"rgb(0,0,0)\",\"size\":10},\"showarrow\":false,\"text\":\"-1\",\"x\":158.0,\"xref\":\"x\",\"y\":203.0,\"yref\":\"y\"},{\"font\":{\"color\":\"rgb(0,0,0)\",\"size\":10},\"showarrow\":false,\"text\":\"-1\",\"x\":104.0,\"xref\":\"x\",\"y\":131.0,\"yref\":\"y\"},{\"font\":{\"color\":\"rgb(0,0,0)\",\"size\":10},\"showarrow\":false,\"text\":\"-1\",\"x\":50.0,\"xref\":\"x\",\"y\":59.0,\"yref\":\"y\"},{\"font\":{\"color\":\"rgb(0,0,0)\",\"size\":10},\"showarrow\":false,\"text\":\"-2\",\"x\":86.0,\"xref\":\"x\",\"y\":59.0,\"yref\":\"y\"},{\"font\":{\"color\":\"rgb(0,0,0)\",\"size\":10},\"showarrow\":false,\"text\":\"-2\",\"x\":140.0,\"xref\":\"x\",\"y\":131.0,\"yref\":\"y\"},{\"font\":{\"color\":\"rgb(0,0,0)\",\"size\":10},\"showarrow\":false,\"text\":\"-2\",\"x\":194.0,\"xref\":\"x\",\"y\":203.0,\"yref\":\"y\"},{\"font\":{\"color\":\"rgb(0,0,0)\",\"size\":10},\"showarrow\":false,\"text\":\"-1\",\"x\":212.0,\"xref\":\"x\",\"y\":131.0,\"yref\":\"y\"},{\"font\":{\"color\":\"rgb(0,0,0)\",\"size\":10},\"showarrow\":false,\"text\":\"-2\",\"x\":248.0,\"xref\":\"x\",\"y\":131.0,\"yref\":\"y\"}],\"margin\":{\"b\":0,\"l\":5,\"r\":5,\"t\":5},\"sliders\":[{\"active\":0,\"currentvalue\":{\"font\":{\"size\":20},\"prefix\":\"Time:\",\"visible\":true,\"xanchor\":\"right\"},\"len\":0.9,\"pad\":{\"b\":5,\"t\":5},\"steps\":[{\"args\":[[0],{\"frame\":{\"duration\":300,\"redraw\":false},\"mode\":\"immediate\",\"transition\":{\"duration\":300}}],\"label\":\"0\",\"method\":\"animate\"},{\"args\":[[1],{\"frame\":{\"duration\":300,\"redraw\":false},\"mode\":\"immediate\",\"transition\":{\"duration\":300}}],\"label\":\"1\",\"method\":\"animate\"},{\"args\":[[2],{\"frame\":{\"duration\":300,\"redraw\":false},\"mode\":\"immediate\",\"transition\":{\"duration\":300}}],\"label\":\"2\",\"method\":\"animate\"},{\"args\":[[3],{\"frame\":{\"duration\":300,\"redraw\":false},\"mode\":\"immediate\",\"transition\":{\"duration\":300}}],\"label\":\"3\",\"method\":\"animate\"},{\"args\":[[4],{\"frame\":{\"duration\":300,\"redraw\":false},\"mode\":\"immediate\",\"transition\":{\"duration\":300}}],\"label\":\"4\",\"method\":\"animate\"},{\"args\":[[5],{\"frame\":{\"duration\":300,\"redraw\":false},\"mode\":\"immediate\",\"transition\":{\"duration\":300}}],\"label\":\"5\",\"method\":\"animate\"},{\"args\":[[6],{\"frame\":{\"duration\":300,\"redraw\":false},\"mode\":\"immediate\",\"transition\":{\"duration\":300}}],\"label\":\"6\",\"method\":\"animate\"},{\"args\":[[7],{\"frame\":{\"duration\":300,\"redraw\":false},\"mode\":\"immediate\",\"transition\":{\"duration\":300}}],\"label\":\"7\",\"method\":\"animate\"},{\"args\":[[8],{\"frame\":{\"duration\":300,\"redraw\":false},\"mode\":\"immediate\",\"transition\":{\"duration\":300}}],\"label\":\"8\",\"method\":\"animate\"},{\"args\":[[9],{\"frame\":{\"duration\":300,\"redraw\":false},\"mode\":\"immediate\",\"transition\":{\"duration\":300}}],\"label\":\"9\",\"method\":\"animate\"},{\"args\":[[10],{\"frame\":{\"duration\":300,\"redraw\":false},\"mode\":\"immediate\",\"transition\":{\"duration\":300}}],\"label\":\"10\",\"method\":\"animate\"},{\"args\":[[11],{\"frame\":{\"duration\":300,\"redraw\":false},\"mode\":\"immediate\",\"transition\":{\"duration\":300}}],\"label\":\"11\",\"method\":\"animate\"},{\"args\":[[12],{\"frame\":{\"duration\":300,\"redraw\":false},\"mode\":\"immediate\",\"transition\":{\"duration\":300}}],\"label\":\"12\",\"method\":\"animate\"},{\"args\":[[13],{\"frame\":{\"duration\":300,\"redraw\":false},\"mode\":\"immediate\",\"transition\":{\"duration\":300}}],\"label\":\"13\",\"method\":\"animate\"},{\"args\":[[14],{\"frame\":{\"duration\":300,\"redraw\":false},\"mode\":\"immediate\",\"transition\":{\"duration\":300}}],\"label\":\"14\",\"method\":\"animate\"},{\"args\":[[15],{\"frame\":{\"duration\":300,\"redraw\":false},\"mode\":\"immediate\",\"transition\":{\"duration\":300}}],\"label\":\"15\",\"method\":\"animate\"},{\"args\":[[16],{\"frame\":{\"duration\":300,\"redraw\":false},\"mode\":\"immediate\",\"transition\":{\"duration\":300}}],\"label\":\"16\",\"method\":\"animate\"},{\"args\":[[17],{\"frame\":{\"duration\":300,\"redraw\":false},\"mode\":\"immediate\",\"transition\":{\"duration\":300}}],\"label\":\"17\",\"method\":\"animate\"},{\"args\":[[18],{\"frame\":{\"duration\":300,\"redraw\":false},\"mode\":\"immediate\",\"transition\":{\"duration\":300}}],\"label\":\"18\",\"method\":\"animate\"}],\"transition\":{\"duration\":300,\"easing\":\"cubic-in-out\"},\"x\":0.1,\"xanchor\":\"left\",\"y\":0,\"yanchor\":\"top\"}],\"title\":{\"text\":\"Recursive Tree: fib(5)\",\"x\":0.02,\"xanchor\":\"left\",\"y\":0.95,\"yanchor\":\"top\"},\"updatemenus\":[{\"buttons\":[{\"args\":[null,{\"frame\":{\"duration\":500,\"redraw\":false},\"fromcurrent\":true,\"transition\":{\"duration\":300,\"easing\":\"quadratic-in-out\"}}],\"label\":\"Play\",\"method\":\"animate\"},{\"args\":[[null],{\"frame\":{\"duration\":0,\"redraw\":false},\"mode\":\"immediate\",\"transition\":{\"duration\":0}}],\"label\":\"Pause\",\"method\":\"animate\"}],\"direction\":\"up\",\"pad\":{\"r\":20,\"t\":15},\"showactive\":true,\"type\":\"buttons\",\"x\":0.1,\"xanchor\":\"right\",\"y\":0,\"yanchor\":\"top\"}],\"xaxis\":{\"showgrid\":false,\"showline\":false,\"showticklabels\":false,\"zeroline\":false},\"yaxis\":{\"showgrid\":false,\"showline\":false,\"showticklabels\":false,\"zeroline\":false},\"template\":{\"data\":{\"histogram2dcontour\":[{\"type\":\"histogram2dcontour\",\"colorbar\":{\"outlinewidth\":0,\"ticks\":\"\"},\"colorscale\":[[0.0,\"#0d0887\"],[0.1111111111111111,\"#46039f\"],[0.2222222222222222,\"#7201a8\"],[0.3333333333333333,\"#9c179e\"],[0.4444444444444444,\"#bd3786\"],[0.5555555555555556,\"#d8576b\"],[0.6666666666666666,\"#ed7953\"],[0.7777777777777778,\"#fb9f3a\"],[0.8888888888888888,\"#fdca26\"],[1.0,\"#f0f921\"]]}],\"choropleth\":[{\"type\":\"choropleth\",\"colorbar\":{\"outlinewidth\":0,\"ticks\":\"\"}}],\"histogram2d\":[{\"type\":\"histogram2d\",\"colorbar\":{\"outlinewidth\":0,\"ticks\":\"\"},\"colorscale\":[[0.0,\"#0d0887\"],[0.1111111111111111,\"#46039f\"],[0.2222222222222222,\"#7201a8\"],[0.3333333333333333,\"#9c179e\"],[0.4444444444444444,\"#bd3786\"],[0.5555555555555556,\"#d8576b\"],[0.6666666666666666,\"#ed7953\"],[0.7777777777777778,\"#fb9f3a\"],[0.8888888888888888,\"#fdca26\"],[1.0,\"#f0f921\"]]}],\"heatmap\":[{\"type\":\"heatmap\",\"colorbar\":{\"outlinewidth\":0,\"ticks\":\"\"},\"colorscale\":[[0.0,\"#0d0887\"],[0.1111111111111111,\"#46039f\"],[0.2222222222222222,\"#7201a8\"],[0.3333333333333333,\"#9c179e\"],[0.4444444444444444,\"#bd3786\"],[0.5555555555555556,\"#d8576b\"],[0.6666666666666666,\"#ed7953\"],[0.7777777777777778,\"#fb9f3a\"],[0.8888888888888888,\"#fdca26\"],[1.0,\"#f0f921\"]]}],\"heatmapgl\":[{\"type\":\"heatmapgl\",\"colorbar\":{\"outlinewidth\":0,\"ticks\":\"\"},\"colorscale\":[[0.0,\"#0d0887\"],[0.1111111111111111,\"#46039f\"],[0.2222222222222222,\"#7201a8\"],[0.3333333333333333,\"#9c179e\"],[0.4444444444444444,\"#bd3786\"],[0.5555555555555556,\"#d8576b\"],[0.6666666666666666,\"#ed7953\"],[0.7777777777777778,\"#fb9f3a\"],[0.8888888888888888,\"#fdca26\"],[1.0,\"#f0f921\"]]}],\"contourcarpet\":[{\"type\":\"contourcarpet\",\"colorbar\":{\"outlinewidth\":0,\"ticks\":\"\"}}],\"contour\":[{\"type\":\"contour\",\"colorbar\":{\"outlinewidth\":0,\"ticks\":\"\"},\"colorscale\":[[0.0,\"#0d0887\"],[0.1111111111111111,\"#46039f\"],[0.2222222222222222,\"#7201a8\"],[0.3333333333333333,\"#9c179e\"],[0.4444444444444444,\"#bd3786\"],[0.5555555555555556,\"#d8576b\"],[0.6666666666666666,\"#ed7953\"],[0.7777777777777778,\"#fb9f3a\"],[0.8888888888888888,\"#fdca26\"],[1.0,\"#f0f921\"]]}],\"surface\":[{\"type\":\"surface\",\"colorbar\":{\"outlinewidth\":0,\"ticks\":\"\"},\"colorscale\":[[0.0,\"#0d0887\"],[0.1111111111111111,\"#46039f\"],[0.2222222222222222,\"#7201a8\"],[0.3333333333333333,\"#9c179e\"],[0.4444444444444444,\"#bd3786\"],[0.5555555555555556,\"#d8576b\"],[0.6666666666666666,\"#ed7953\"],[0.7777777777777778,\"#fb9f3a\"],[0.8888888888888888,\"#fdca26\"],[1.0,\"#f0f921\"]]}],\"mesh3d\":[{\"type\":\"mesh3d\",\"colorbar\":{\"outlinewidth\":0,\"ticks\":\"\"}}],\"scatter\":[{\"fillpattern\":{\"fillmode\":\"overlay\",\"size\":10,\"solidity\":0.2},\"type\":\"scatter\"}],\"parcoords\":[{\"type\":\"parcoords\",\"line\":{\"colorbar\":{\"outlinewidth\":0,\"ticks\":\"\"}}}],\"scatterpolargl\":[{\"type\":\"scatterpolargl\",\"marker\":{\"colorbar\":{\"outlinewidth\":0,\"ticks\":\"\"}}}],\"bar\":[{\"error_x\":{\"color\":\"#2a3f5f\"},\"error_y\":{\"color\":\"#2a3f5f\"},\"marker\":{\"line\":{\"color\":\"#E5ECF6\",\"width\":0.5},\"pattern\":{\"fillmode\":\"overlay\",\"size\":10,\"solidity\":0.2}},\"type\":\"bar\"}],\"scattergeo\":[{\"type\":\"scattergeo\",\"marker\":{\"colorbar\":{\"outlinewidth\":0,\"ticks\":\"\"}}}],\"scatterpolar\":[{\"type\":\"scatterpolar\",\"marker\":{\"colorbar\":{\"outlinewidth\":0,\"ticks\":\"\"}}}],\"histogram\":[{\"marker\":{\"pattern\":{\"fillmode\":\"overlay\",\"size\":10,\"solidity\":0.2}},\"type\":\"histogram\"}],\"scattergl\":[{\"type\":\"scattergl\",\"marker\":{\"colorbar\":{\"outlinewidth\":0,\"ticks\":\"\"}}}],\"scatter3d\":[{\"type\":\"scatter3d\",\"line\":{\"colorbar\":{\"outlinewidth\":0,\"ticks\":\"\"}},\"marker\":{\"colorbar\":{\"outlinewidth\":0,\"ticks\":\"\"}}}],\"scattermapbox\":[{\"type\":\"scattermapbox\",\"marker\":{\"colorbar\":{\"outlinewidth\":0,\"ticks\":\"\"}}}],\"scatterternary\":[{\"type\":\"scatterternary\",\"marker\":{\"colorbar\":{\"outlinewidth\":0,\"ticks\":\"\"}}}],\"scattercarpet\":[{\"type\":\"scattercarpet\",\"marker\":{\"colorbar\":{\"outlinewidth\":0,\"ticks\":\"\"}}}],\"carpet\":[{\"aaxis\":{\"endlinecolor\":\"#2a3f5f\",\"gridcolor\":\"white\",\"linecolor\":\"white\",\"minorgridcolor\":\"white\",\"startlinecolor\":\"#2a3f5f\"},\"baxis\":{\"endlinecolor\":\"#2a3f5f\",\"gridcolor\":\"white\",\"linecolor\":\"white\",\"minorgridcolor\":\"white\",\"startlinecolor\":\"#2a3f5f\"},\"type\":\"carpet\"}],\"table\":[{\"cells\":{\"fill\":{\"color\":\"#EBF0F8\"},\"line\":{\"color\":\"white\"}},\"header\":{\"fill\":{\"color\":\"#C8D4E3\"},\"line\":{\"color\":\"white\"}},\"type\":\"table\"}],\"barpolar\":[{\"marker\":{\"line\":{\"color\":\"#E5ECF6\",\"width\":0.5},\"pattern\":{\"fillmode\":\"overlay\",\"size\":10,\"solidity\":0.2}},\"type\":\"barpolar\"}],\"pie\":[{\"automargin\":true,\"type\":\"pie\"}]},\"layout\":{\"autotypenumbers\":\"strict\",\"colorway\":[\"#636efa\",\"#EF553B\",\"#00cc96\",\"#ab63fa\",\"#FFA15A\",\"#19d3f3\",\"#FF6692\",\"#B6E880\",\"#FF97FF\",\"#FECB52\"],\"font\":{\"color\":\"#2a3f5f\"},\"hovermode\":\"closest\",\"hoverlabel\":{\"align\":\"left\"},\"paper_bgcolor\":\"white\",\"plot_bgcolor\":\"#E5ECF6\",\"polar\":{\"bgcolor\":\"#E5ECF6\",\"angularaxis\":{\"gridcolor\":\"white\",\"linecolor\":\"white\",\"ticks\":\"\"},\"radialaxis\":{\"gridcolor\":\"white\",\"linecolor\":\"white\",\"ticks\":\"\"}},\"ternary\":{\"bgcolor\":\"#E5ECF6\",\"aaxis\":{\"gridcolor\":\"white\",\"linecolor\":\"white\",\"ticks\":\"\"},\"baxis\":{\"gridcolor\":\"white\",\"linecolor\":\"white\",\"ticks\":\"\"},\"caxis\":{\"gridcolor\":\"white\",\"linecolor\":\"white\",\"ticks\":\"\"}},\"coloraxis\":{\"colorbar\":{\"outlinewidth\":0,\"ticks\":\"\"}},\"colorscale\":{\"sequential\":[[0.0,\"#0d0887\"],[0.1111111111111111,\"#46039f\"],[0.2222222222222222,\"#7201a8\"],[0.3333333333333333,\"#9c179e\"],[0.4444444444444444,\"#bd3786\"],[0.5555555555555556,\"#d8576b\"],[0.6666666666666666,\"#ed7953\"],[0.7777777777777778,\"#fb9f3a\"],[0.8888888888888888,\"#fdca26\"],[1.0,\"#f0f921\"]],\"sequentialminus\":[[0.0,\"#0d0887\"],[0.1111111111111111,\"#46039f\"],[0.2222222222222222,\"#7201a8\"],[0.3333333333333333,\"#9c179e\"],[0.4444444444444444,\"#bd3786\"],[0.5555555555555556,\"#d8576b\"],[0.6666666666666666,\"#ed7953\"],[0.7777777777777778,\"#fb9f3a\"],[0.8888888888888888,\"#fdca26\"],[1.0,\"#f0f921\"]],\"diverging\":[[0,\"#8e0152\"],[0.1,\"#c51b7d\"],[0.2,\"#de77ae\"],[0.3,\"#f1b6da\"],[0.4,\"#fde0ef\"],[0.5,\"#f7f7f7\"],[0.6,\"#e6f5d0\"],[0.7,\"#b8e186\"],[0.8,\"#7fbc41\"],[0.9,\"#4d9221\"],[1,\"#276419\"]]},\"xaxis\":{\"gridcolor\":\"white\",\"linecolor\":\"white\",\"ticks\":\"\",\"title\":{\"standoff\":15},\"zerolinecolor\":\"white\",\"automargin\":true,\"zerolinewidth\":2},\"yaxis\":{\"gridcolor\":\"white\",\"linecolor\":\"white\",\"ticks\":\"\",\"title\":{\"standoff\":15},\"zerolinecolor\":\"white\",\"automargin\":true,\"zerolinewidth\":2},\"scene\":{\"xaxis\":{\"backgroundcolor\":\"#E5ECF6\",\"gridcolor\":\"white\",\"linecolor\":\"white\",\"showbackground\":true,\"ticks\":\"\",\"zerolinecolor\":\"white\",\"gridwidth\":2},\"yaxis\":{\"backgroundcolor\":\"#E5ECF6\",\"gridcolor\":\"white\",\"linecolor\":\"white\",\"showbackground\":true,\"ticks\":\"\",\"zerolinecolor\":\"white\",\"gridwidth\":2},\"zaxis\":{\"backgroundcolor\":\"#E5ECF6\",\"gridcolor\":\"white\",\"linecolor\":\"white\",\"showbackground\":true,\"ticks\":\"\",\"zerolinecolor\":\"white\",\"gridwidth\":2}},\"shapedefaults\":{\"line\":{\"color\":\"#2a3f5f\"}},\"annotationdefaults\":{\"arrowcolor\":\"#2a3f5f\",\"arrowhead\":0,\"arrowwidth\":1},\"geo\":{\"bgcolor\":\"white\",\"landcolor\":\"#E5ECF6\",\"subunitcolor\":\"white\",\"showland\":true,\"showlakes\":true,\"lakecolor\":\"white\"},\"title\":{\"x\":0.05},\"mapbox\":{\"style\":\"light\"}}}},                        {\"responsive\": true}                    ).then(function(){\n",
       "                            Plotly.addFrames('681efb04-b1b5-44eb-bda2-f7d80c032715', [{\"data\":[{\"hoverinfo\":\"text\",\"hovertext\":[\"fib(5)=5<br>discover: 0<br>finish: 17\",\"fib(4)=3<br>discover: 1<br>finish: 10\",\"fib(3)=2<br>discover: 2<br>finish: 7\",\"fib(2)=1<br>discover: 3<br>finish: 4\",\"fib(1)=1<br>discover: 5<br>finish: 6\",\"fib(2)=1<br>discover: 8<br>finish: 9\",\"fib(3)=2<br>discover: 11<br>finish: 16\",\"fib(2)=1<br>discover: 12<br>finish: 13\",\"fib(1)=1<br>discover: 14<br>finish: 15\"],\"ids\":[0,1,2,3,4,5,6,7,8],\"marker\":{\"cmid\":1,\"color\":[1,0,0,0,0,0,0,0,0],\"colorscale\":[[0.0,\"#F7FBFF\"],[0.33,\"#F7FBFF\"],[0.33,\"#6AAED6\"],[0.66,\"#6AAED6\"],[0.66,\"#0A306B\"],[1.0,\"#0A306B\"]],\"line\":{\"color\":\"rgb(50,50,50)\",\"width\":1},\"size\":17},\"mode\":\"markers+text\",\"showlegend\":false,\"text\":[\"5\",\"4\",\"3\",\"2\",\"1\",\"2\",\"3\",\"2\",\"1\"],\"textfont\":{\"color\":[\"rgb(255, 255, 255)\",\"rgb(0,0,0)\",\"rgb(0,0,0)\",\"rgb(0,0,0)\",\"rgb(0,0,0)\",\"rgb(0,0,0)\",\"rgb(0,0,0)\",\"rgb(0,0,0)\",\"rgb(0,0,0)\"]},\"x\":[171.0,135.0,63.0,27.0,99.0,135.0,207.0,207.0,279.0],\"y\":[234.0,162.0,90.0,18.0,18.0,90.0,162.0,90.0,90.0],\"type\":\"scatter\"},{\"hoverinfo\":\"none\",\"line\":{\"color\":\"#888\",\"width\":1},\"mode\":\"lines\",\"showlegend\":false,\"textposition\":\"bottom right\",\"x\":[171.0,135.0,null,171.0,207.0,null,135.0,63.0,null,135.0,135.0,null,63.0,27.0,null,63.0,99.0,null,207.0,207.0,null,207.0,279.0,null],\"y\":[234.0,162.0,null,234.0,162.0,null,162.0,90.0,null,162.0,90.0,null,90.0,18.0,null,90.0,18.0,null,162.0,90.0,null,162.0,90.0,null],\"type\":\"scatter\"}],\"name\":\"1\"},{\"data\":[{\"hoverinfo\":\"text\",\"hovertext\":[\"fib(5)=5<br>discover: 0<br>finish: 17\",\"fib(4)=3<br>discover: 1<br>finish: 10\",\"fib(3)=2<br>discover: 2<br>finish: 7\",\"fib(2)=1<br>discover: 3<br>finish: 4\",\"fib(1)=1<br>discover: 5<br>finish: 6\",\"fib(2)=1<br>discover: 8<br>finish: 9\",\"fib(3)=2<br>discover: 11<br>finish: 16\",\"fib(2)=1<br>discover: 12<br>finish: 13\",\"fib(1)=1<br>discover: 14<br>finish: 15\"],\"ids\":[0,1,2,3,4,5,6,7,8],\"marker\":{\"cmid\":1,\"color\":[1,1,0,0,0,0,0,0,0],\"colorscale\":[[0.0,\"#F7FBFF\"],[0.33,\"#F7FBFF\"],[0.33,\"#6AAED6\"],[0.66,\"#6AAED6\"],[0.66,\"#0A306B\"],[1.0,\"#0A306B\"]],\"line\":{\"color\":\"rgb(50,50,50)\",\"width\":1},\"size\":17},\"mode\":\"markers+text\",\"showlegend\":false,\"text\":[\"5\",\"4\",\"3\",\"2\",\"1\",\"2\",\"3\",\"2\",\"1\"],\"textfont\":{\"color\":[\"rgb(255, 255, 255)\",\"rgb(255, 255, 255)\",\"rgb(0,0,0)\",\"rgb(0,0,0)\",\"rgb(0,0,0)\",\"rgb(0,0,0)\",\"rgb(0,0,0)\",\"rgb(0,0,0)\",\"rgb(0,0,0)\"]},\"x\":[171.0,135.0,63.0,27.0,99.0,135.0,207.0,207.0,279.0],\"y\":[234.0,162.0,90.0,18.0,18.0,90.0,162.0,90.0,90.0],\"type\":\"scatter\"},{\"hoverinfo\":\"none\",\"line\":{\"color\":\"#888\",\"width\":1},\"mode\":\"lines\",\"showlegend\":false,\"textposition\":\"bottom right\",\"x\":[171.0,135.0,null,171.0,207.0,null,135.0,63.0,null,135.0,135.0,null,63.0,27.0,null,63.0,99.0,null,207.0,207.0,null,207.0,279.0,null],\"y\":[234.0,162.0,null,234.0,162.0,null,162.0,90.0,null,162.0,90.0,null,90.0,18.0,null,90.0,18.0,null,162.0,90.0,null,162.0,90.0,null],\"type\":\"scatter\"}],\"name\":\"2\"},{\"data\":[{\"hoverinfo\":\"text\",\"hovertext\":[\"fib(5)=5<br>discover: 0<br>finish: 17\",\"fib(4)=3<br>discover: 1<br>finish: 10\",\"fib(3)=2<br>discover: 2<br>finish: 7\",\"fib(2)=1<br>discover: 3<br>finish: 4\",\"fib(1)=1<br>discover: 5<br>finish: 6\",\"fib(2)=1<br>discover: 8<br>finish: 9\",\"fib(3)=2<br>discover: 11<br>finish: 16\",\"fib(2)=1<br>discover: 12<br>finish: 13\",\"fib(1)=1<br>discover: 14<br>finish: 15\"],\"ids\":[0,1,2,3,4,5,6,7,8],\"marker\":{\"cmid\":1,\"color\":[1,1,1,0,0,0,0,0,0],\"colorscale\":[[0.0,\"#F7FBFF\"],[0.33,\"#F7FBFF\"],[0.33,\"#6AAED6\"],[0.66,\"#6AAED6\"],[0.66,\"#0A306B\"],[1.0,\"#0A306B\"]],\"line\":{\"color\":\"rgb(50,50,50)\",\"width\":1},\"size\":17},\"mode\":\"markers+text\",\"showlegend\":false,\"text\":[\"5\",\"4\",\"3\",\"2\",\"1\",\"2\",\"3\",\"2\",\"1\"],\"textfont\":{\"color\":[\"rgb(255, 255, 255)\",\"rgb(255, 255, 255)\",\"rgb(255, 255, 255)\",\"rgb(0,0,0)\",\"rgb(0,0,0)\",\"rgb(0,0,0)\",\"rgb(0,0,0)\",\"rgb(0,0,0)\",\"rgb(0,0,0)\"]},\"x\":[171.0,135.0,63.0,27.0,99.0,135.0,207.0,207.0,279.0],\"y\":[234.0,162.0,90.0,18.0,18.0,90.0,162.0,90.0,90.0],\"type\":\"scatter\"},{\"hoverinfo\":\"none\",\"line\":{\"color\":\"#888\",\"width\":1},\"mode\":\"lines\",\"showlegend\":false,\"textposition\":\"bottom right\",\"x\":[171.0,135.0,null,171.0,207.0,null,135.0,63.0,null,135.0,135.0,null,63.0,27.0,null,63.0,99.0,null,207.0,207.0,null,207.0,279.0,null],\"y\":[234.0,162.0,null,234.0,162.0,null,162.0,90.0,null,162.0,90.0,null,90.0,18.0,null,90.0,18.0,null,162.0,90.0,null,162.0,90.0,null],\"type\":\"scatter\"}],\"name\":\"3\"},{\"data\":[{\"hoverinfo\":\"text\",\"hovertext\":[\"fib(5)=5<br>discover: 0<br>finish: 17\",\"fib(4)=3<br>discover: 1<br>finish: 10\",\"fib(3)=2<br>discover: 2<br>finish: 7\",\"fib(2)=1<br>discover: 3<br>finish: 4\",\"fib(1)=1<br>discover: 5<br>finish: 6\",\"fib(2)=1<br>discover: 8<br>finish: 9\",\"fib(3)=2<br>discover: 11<br>finish: 16\",\"fib(2)=1<br>discover: 12<br>finish: 13\",\"fib(1)=1<br>discover: 14<br>finish: 15\"],\"ids\":[0,1,2,3,4,5,6,7,8],\"marker\":{\"cmid\":1,\"color\":[1,1,1,1,0,0,0,0,0],\"colorscale\":[[0.0,\"#F7FBFF\"],[0.33,\"#F7FBFF\"],[0.33,\"#6AAED6\"],[0.66,\"#6AAED6\"],[0.66,\"#0A306B\"],[1.0,\"#0A306B\"]],\"line\":{\"color\":\"rgb(50,50,50)\",\"width\":1},\"size\":17},\"mode\":\"markers+text\",\"showlegend\":false,\"text\":[\"5\",\"4\",\"3\",\"2\",\"1\",\"2\",\"3\",\"2\",\"1\"],\"textfont\":{\"color\":[\"rgb(255, 255, 255)\",\"rgb(255, 255, 255)\",\"rgb(255, 255, 255)\",\"rgb(255, 255, 255)\",\"rgb(0,0,0)\",\"rgb(0,0,0)\",\"rgb(0,0,0)\",\"rgb(0,0,0)\",\"rgb(0,0,0)\"]},\"x\":[171.0,135.0,63.0,27.0,99.0,135.0,207.0,207.0,279.0],\"y\":[234.0,162.0,90.0,18.0,18.0,90.0,162.0,90.0,90.0],\"type\":\"scatter\"},{\"hoverinfo\":\"none\",\"line\":{\"color\":\"#888\",\"width\":1},\"mode\":\"lines\",\"showlegend\":false,\"textposition\":\"bottom right\",\"x\":[171.0,135.0,null,171.0,207.0,null,135.0,63.0,null,135.0,135.0,null,63.0,27.0,null,63.0,99.0,null,207.0,207.0,null,207.0,279.0,null],\"y\":[234.0,162.0,null,234.0,162.0,null,162.0,90.0,null,162.0,90.0,null,90.0,18.0,null,90.0,18.0,null,162.0,90.0,null,162.0,90.0,null],\"type\":\"scatter\"}],\"name\":\"4\"},{\"data\":[{\"hoverinfo\":\"text\",\"hovertext\":[\"fib(5)=5<br>discover: 0<br>finish: 17\",\"fib(4)=3<br>discover: 1<br>finish: 10\",\"fib(3)=2<br>discover: 2<br>finish: 7\",\"fib(2)=1<br>discover: 3<br>finish: 4\",\"fib(1)=1<br>discover: 5<br>finish: 6\",\"fib(2)=1<br>discover: 8<br>finish: 9\",\"fib(3)=2<br>discover: 11<br>finish: 16\",\"fib(2)=1<br>discover: 12<br>finish: 13\",\"fib(1)=1<br>discover: 14<br>finish: 15\"],\"ids\":[0,1,2,3,4,5,6,7,8],\"marker\":{\"cmid\":1,\"color\":[1,1,1,2,0,0,0,0,0],\"colorscale\":[[0.0,\"#F7FBFF\"],[0.33,\"#F7FBFF\"],[0.33,\"#6AAED6\"],[0.66,\"#6AAED6\"],[0.66,\"#0A306B\"],[1.0,\"#0A306B\"]],\"line\":{\"color\":\"rgb(50,50,50)\",\"width\":1},\"size\":17},\"mode\":\"markers+text\",\"showlegend\":false,\"text\":[\"5\",\"4\",\"3\",\"2\",\"1\",\"2\",\"3\",\"2\",\"1\"],\"textfont\":{\"color\":[\"rgb(255, 255, 255)\",\"rgb(255, 255, 255)\",\"rgb(255, 255, 255)\",\"rgb(255, 255, 255)\",\"rgb(0,0,0)\",\"rgb(0,0,0)\",\"rgb(0,0,0)\",\"rgb(0,0,0)\",\"rgb(0,0,0)\"]},\"x\":[171.0,135.0,63.0,27.0,99.0,135.0,207.0,207.0,279.0],\"y\":[234.0,162.0,90.0,18.0,18.0,90.0,162.0,90.0,90.0],\"type\":\"scatter\"},{\"hoverinfo\":\"none\",\"line\":{\"color\":\"#888\",\"width\":1},\"mode\":\"lines\",\"showlegend\":false,\"textposition\":\"bottom right\",\"x\":[171.0,135.0,null,171.0,207.0,null,135.0,63.0,null,135.0,135.0,null,63.0,27.0,null,63.0,99.0,null,207.0,207.0,null,207.0,279.0,null],\"y\":[234.0,162.0,null,234.0,162.0,null,162.0,90.0,null,162.0,90.0,null,90.0,18.0,null,90.0,18.0,null,162.0,90.0,null,162.0,90.0,null],\"type\":\"scatter\"}],\"name\":\"5\"},{\"data\":[{\"hoverinfo\":\"text\",\"hovertext\":[\"fib(5)=5<br>discover: 0<br>finish: 17\",\"fib(4)=3<br>discover: 1<br>finish: 10\",\"fib(3)=2<br>discover: 2<br>finish: 7\",\"fib(2)=1<br>discover: 3<br>finish: 4\",\"fib(1)=1<br>discover: 5<br>finish: 6\",\"fib(2)=1<br>discover: 8<br>finish: 9\",\"fib(3)=2<br>discover: 11<br>finish: 16\",\"fib(2)=1<br>discover: 12<br>finish: 13\",\"fib(1)=1<br>discover: 14<br>finish: 15\"],\"ids\":[0,1,2,3,4,5,6,7,8],\"marker\":{\"cmid\":1,\"color\":[1,1,1,2,1,0,0,0,0],\"colorscale\":[[0.0,\"#F7FBFF\"],[0.33,\"#F7FBFF\"],[0.33,\"#6AAED6\"],[0.66,\"#6AAED6\"],[0.66,\"#0A306B\"],[1.0,\"#0A306B\"]],\"line\":{\"color\":\"rgb(50,50,50)\",\"width\":1},\"size\":17},\"mode\":\"markers+text\",\"showlegend\":false,\"text\":[\"5\",\"4\",\"3\",\"2\",\"1\",\"2\",\"3\",\"2\",\"1\"],\"textfont\":{\"color\":[\"rgb(255, 255, 255)\",\"rgb(255, 255, 255)\",\"rgb(255, 255, 255)\",\"rgb(255, 255, 255)\",\"rgb(255, 255, 255)\",\"rgb(0,0,0)\",\"rgb(0,0,0)\",\"rgb(0,0,0)\",\"rgb(0,0,0)\"]},\"x\":[171.0,135.0,63.0,27.0,99.0,135.0,207.0,207.0,279.0],\"y\":[234.0,162.0,90.0,18.0,18.0,90.0,162.0,90.0,90.0],\"type\":\"scatter\"},{\"hoverinfo\":\"none\",\"line\":{\"color\":\"#888\",\"width\":1},\"mode\":\"lines\",\"showlegend\":false,\"textposition\":\"bottom right\",\"x\":[171.0,135.0,null,171.0,207.0,null,135.0,63.0,null,135.0,135.0,null,63.0,27.0,null,63.0,99.0,null,207.0,207.0,null,207.0,279.0,null],\"y\":[234.0,162.0,null,234.0,162.0,null,162.0,90.0,null,162.0,90.0,null,90.0,18.0,null,90.0,18.0,null,162.0,90.0,null,162.0,90.0,null],\"type\":\"scatter\"}],\"name\":\"6\"},{\"data\":[{\"hoverinfo\":\"text\",\"hovertext\":[\"fib(5)=5<br>discover: 0<br>finish: 17\",\"fib(4)=3<br>discover: 1<br>finish: 10\",\"fib(3)=2<br>discover: 2<br>finish: 7\",\"fib(2)=1<br>discover: 3<br>finish: 4\",\"fib(1)=1<br>discover: 5<br>finish: 6\",\"fib(2)=1<br>discover: 8<br>finish: 9\",\"fib(3)=2<br>discover: 11<br>finish: 16\",\"fib(2)=1<br>discover: 12<br>finish: 13\",\"fib(1)=1<br>discover: 14<br>finish: 15\"],\"ids\":[0,1,2,3,4,5,6,7,8],\"marker\":{\"cmid\":1,\"color\":[1,1,1,2,2,0,0,0,0],\"colorscale\":[[0.0,\"#F7FBFF\"],[0.33,\"#F7FBFF\"],[0.33,\"#6AAED6\"],[0.66,\"#6AAED6\"],[0.66,\"#0A306B\"],[1.0,\"#0A306B\"]],\"line\":{\"color\":\"rgb(50,50,50)\",\"width\":1},\"size\":17},\"mode\":\"markers+text\",\"showlegend\":false,\"text\":[\"5\",\"4\",\"3\",\"2\",\"1\",\"2\",\"3\",\"2\",\"1\"],\"textfont\":{\"color\":[\"rgb(255, 255, 255)\",\"rgb(255, 255, 255)\",\"rgb(255, 255, 255)\",\"rgb(255, 255, 255)\",\"rgb(255, 255, 255)\",\"rgb(0,0,0)\",\"rgb(0,0,0)\",\"rgb(0,0,0)\",\"rgb(0,0,0)\"]},\"x\":[171.0,135.0,63.0,27.0,99.0,135.0,207.0,207.0,279.0],\"y\":[234.0,162.0,90.0,18.0,18.0,90.0,162.0,90.0,90.0],\"type\":\"scatter\"},{\"hoverinfo\":\"none\",\"line\":{\"color\":\"#888\",\"width\":1},\"mode\":\"lines\",\"showlegend\":false,\"textposition\":\"bottom right\",\"x\":[171.0,135.0,null,171.0,207.0,null,135.0,63.0,null,135.0,135.0,null,63.0,27.0,null,63.0,99.0,null,207.0,207.0,null,207.0,279.0,null],\"y\":[234.0,162.0,null,234.0,162.0,null,162.0,90.0,null,162.0,90.0,null,90.0,18.0,null,90.0,18.0,null,162.0,90.0,null,162.0,90.0,null],\"type\":\"scatter\"}],\"name\":\"7\"},{\"data\":[{\"hoverinfo\":\"text\",\"hovertext\":[\"fib(5)=5<br>discover: 0<br>finish: 17\",\"fib(4)=3<br>discover: 1<br>finish: 10\",\"fib(3)=2<br>discover: 2<br>finish: 7\",\"fib(2)=1<br>discover: 3<br>finish: 4\",\"fib(1)=1<br>discover: 5<br>finish: 6\",\"fib(2)=1<br>discover: 8<br>finish: 9\",\"fib(3)=2<br>discover: 11<br>finish: 16\",\"fib(2)=1<br>discover: 12<br>finish: 13\",\"fib(1)=1<br>discover: 14<br>finish: 15\"],\"ids\":[0,1,2,3,4,5,6,7,8],\"marker\":{\"cmid\":1,\"color\":[1,1,2,2,2,0,0,0,0],\"colorscale\":[[0.0,\"#F7FBFF\"],[0.33,\"#F7FBFF\"],[0.33,\"#6AAED6\"],[0.66,\"#6AAED6\"],[0.66,\"#0A306B\"],[1.0,\"#0A306B\"]],\"line\":{\"color\":\"rgb(50,50,50)\",\"width\":1},\"size\":17},\"mode\":\"markers+text\",\"showlegend\":false,\"text\":[\"5\",\"4\",\"3\",\"2\",\"1\",\"2\",\"3\",\"2\",\"1\"],\"textfont\":{\"color\":[\"rgb(255, 255, 255)\",\"rgb(255, 255, 255)\",\"rgb(255, 255, 255)\",\"rgb(255, 255, 255)\",\"rgb(255, 255, 255)\",\"rgb(0,0,0)\",\"rgb(0,0,0)\",\"rgb(0,0,0)\",\"rgb(0,0,0)\"]},\"x\":[171.0,135.0,63.0,27.0,99.0,135.0,207.0,207.0,279.0],\"y\":[234.0,162.0,90.0,18.0,18.0,90.0,162.0,90.0,90.0],\"type\":\"scatter\"},{\"hoverinfo\":\"none\",\"line\":{\"color\":\"#888\",\"width\":1},\"mode\":\"lines\",\"showlegend\":false,\"textposition\":\"bottom right\",\"x\":[171.0,135.0,null,171.0,207.0,null,135.0,63.0,null,135.0,135.0,null,63.0,27.0,null,63.0,99.0,null,207.0,207.0,null,207.0,279.0,null],\"y\":[234.0,162.0,null,234.0,162.0,null,162.0,90.0,null,162.0,90.0,null,90.0,18.0,null,90.0,18.0,null,162.0,90.0,null,162.0,90.0,null],\"type\":\"scatter\"}],\"name\":\"8\"},{\"data\":[{\"hoverinfo\":\"text\",\"hovertext\":[\"fib(5)=5<br>discover: 0<br>finish: 17\",\"fib(4)=3<br>discover: 1<br>finish: 10\",\"fib(3)=2<br>discover: 2<br>finish: 7\",\"fib(2)=1<br>discover: 3<br>finish: 4\",\"fib(1)=1<br>discover: 5<br>finish: 6\",\"fib(2)=1<br>discover: 8<br>finish: 9\",\"fib(3)=2<br>discover: 11<br>finish: 16\",\"fib(2)=1<br>discover: 12<br>finish: 13\",\"fib(1)=1<br>discover: 14<br>finish: 15\"],\"ids\":[0,1,2,3,4,5,6,7,8],\"marker\":{\"cmid\":1,\"color\":[1,1,2,2,2,1,0,0,0],\"colorscale\":[[0.0,\"#F7FBFF\"],[0.33,\"#F7FBFF\"],[0.33,\"#6AAED6\"],[0.66,\"#6AAED6\"],[0.66,\"#0A306B\"],[1.0,\"#0A306B\"]],\"line\":{\"color\":\"rgb(50,50,50)\",\"width\":1},\"size\":17},\"mode\":\"markers+text\",\"showlegend\":false,\"text\":[\"5\",\"4\",\"3\",\"2\",\"1\",\"2\",\"3\",\"2\",\"1\"],\"textfont\":{\"color\":[\"rgb(255, 255, 255)\",\"rgb(255, 255, 255)\",\"rgb(255, 255, 255)\",\"rgb(255, 255, 255)\",\"rgb(255, 255, 255)\",\"rgb(255, 255, 255)\",\"rgb(0,0,0)\",\"rgb(0,0,0)\",\"rgb(0,0,0)\"]},\"x\":[171.0,135.0,63.0,27.0,99.0,135.0,207.0,207.0,279.0],\"y\":[234.0,162.0,90.0,18.0,18.0,90.0,162.0,90.0,90.0],\"type\":\"scatter\"},{\"hoverinfo\":\"none\",\"line\":{\"color\":\"#888\",\"width\":1},\"mode\":\"lines\",\"showlegend\":false,\"textposition\":\"bottom right\",\"x\":[171.0,135.0,null,171.0,207.0,null,135.0,63.0,null,135.0,135.0,null,63.0,27.0,null,63.0,99.0,null,207.0,207.0,null,207.0,279.0,null],\"y\":[234.0,162.0,null,234.0,162.0,null,162.0,90.0,null,162.0,90.0,null,90.0,18.0,null,90.0,18.0,null,162.0,90.0,null,162.0,90.0,null],\"type\":\"scatter\"}],\"name\":\"9\"},{\"data\":[{\"hoverinfo\":\"text\",\"hovertext\":[\"fib(5)=5<br>discover: 0<br>finish: 17\",\"fib(4)=3<br>discover: 1<br>finish: 10\",\"fib(3)=2<br>discover: 2<br>finish: 7\",\"fib(2)=1<br>discover: 3<br>finish: 4\",\"fib(1)=1<br>discover: 5<br>finish: 6\",\"fib(2)=1<br>discover: 8<br>finish: 9\",\"fib(3)=2<br>discover: 11<br>finish: 16\",\"fib(2)=1<br>discover: 12<br>finish: 13\",\"fib(1)=1<br>discover: 14<br>finish: 15\"],\"ids\":[0,1,2,3,4,5,6,7,8],\"marker\":{\"cmid\":1,\"color\":[1,1,2,2,2,2,0,0,0],\"colorscale\":[[0.0,\"#F7FBFF\"],[0.33,\"#F7FBFF\"],[0.33,\"#6AAED6\"],[0.66,\"#6AAED6\"],[0.66,\"#0A306B\"],[1.0,\"#0A306B\"]],\"line\":{\"color\":\"rgb(50,50,50)\",\"width\":1},\"size\":17},\"mode\":\"markers+text\",\"showlegend\":false,\"text\":[\"5\",\"4\",\"3\",\"2\",\"1\",\"2\",\"3\",\"2\",\"1\"],\"textfont\":{\"color\":[\"rgb(255, 255, 255)\",\"rgb(255, 255, 255)\",\"rgb(255, 255, 255)\",\"rgb(255, 255, 255)\",\"rgb(255, 255, 255)\",\"rgb(255, 255, 255)\",\"rgb(0,0,0)\",\"rgb(0,0,0)\",\"rgb(0,0,0)\"]},\"x\":[171.0,135.0,63.0,27.0,99.0,135.0,207.0,207.0,279.0],\"y\":[234.0,162.0,90.0,18.0,18.0,90.0,162.0,90.0,90.0],\"type\":\"scatter\"},{\"hoverinfo\":\"none\",\"line\":{\"color\":\"#888\",\"width\":1},\"mode\":\"lines\",\"showlegend\":false,\"textposition\":\"bottom right\",\"x\":[171.0,135.0,null,171.0,207.0,null,135.0,63.0,null,135.0,135.0,null,63.0,27.0,null,63.0,99.0,null,207.0,207.0,null,207.0,279.0,null],\"y\":[234.0,162.0,null,234.0,162.0,null,162.0,90.0,null,162.0,90.0,null,90.0,18.0,null,90.0,18.0,null,162.0,90.0,null,162.0,90.0,null],\"type\":\"scatter\"}],\"name\":\"10\"},{\"data\":[{\"hoverinfo\":\"text\",\"hovertext\":[\"fib(5)=5<br>discover: 0<br>finish: 17\",\"fib(4)=3<br>discover: 1<br>finish: 10\",\"fib(3)=2<br>discover: 2<br>finish: 7\",\"fib(2)=1<br>discover: 3<br>finish: 4\",\"fib(1)=1<br>discover: 5<br>finish: 6\",\"fib(2)=1<br>discover: 8<br>finish: 9\",\"fib(3)=2<br>discover: 11<br>finish: 16\",\"fib(2)=1<br>discover: 12<br>finish: 13\",\"fib(1)=1<br>discover: 14<br>finish: 15\"],\"ids\":[0,1,2,3,4,5,6,7,8],\"marker\":{\"cmid\":1,\"color\":[1,2,2,2,2,2,0,0,0],\"colorscale\":[[0.0,\"#F7FBFF\"],[0.33,\"#F7FBFF\"],[0.33,\"#6AAED6\"],[0.66,\"#6AAED6\"],[0.66,\"#0A306B\"],[1.0,\"#0A306B\"]],\"line\":{\"color\":\"rgb(50,50,50)\",\"width\":1},\"size\":17},\"mode\":\"markers+text\",\"showlegend\":false,\"text\":[\"5\",\"4\",\"3\",\"2\",\"1\",\"2\",\"3\",\"2\",\"1\"],\"textfont\":{\"color\":[\"rgb(255, 255, 255)\",\"rgb(255, 255, 255)\",\"rgb(255, 255, 255)\",\"rgb(255, 255, 255)\",\"rgb(255, 255, 255)\",\"rgb(255, 255, 255)\",\"rgb(0,0,0)\",\"rgb(0,0,0)\",\"rgb(0,0,0)\"]},\"x\":[171.0,135.0,63.0,27.0,99.0,135.0,207.0,207.0,279.0],\"y\":[234.0,162.0,90.0,18.0,18.0,90.0,162.0,90.0,90.0],\"type\":\"scatter\"},{\"hoverinfo\":\"none\",\"line\":{\"color\":\"#888\",\"width\":1},\"mode\":\"lines\",\"showlegend\":false,\"textposition\":\"bottom right\",\"x\":[171.0,135.0,null,171.0,207.0,null,135.0,63.0,null,135.0,135.0,null,63.0,27.0,null,63.0,99.0,null,207.0,207.0,null,207.0,279.0,null],\"y\":[234.0,162.0,null,234.0,162.0,null,162.0,90.0,null,162.0,90.0,null,90.0,18.0,null,90.0,18.0,null,162.0,90.0,null,162.0,90.0,null],\"type\":\"scatter\"}],\"name\":\"11\"},{\"data\":[{\"hoverinfo\":\"text\",\"hovertext\":[\"fib(5)=5<br>discover: 0<br>finish: 17\",\"fib(4)=3<br>discover: 1<br>finish: 10\",\"fib(3)=2<br>discover: 2<br>finish: 7\",\"fib(2)=1<br>discover: 3<br>finish: 4\",\"fib(1)=1<br>discover: 5<br>finish: 6\",\"fib(2)=1<br>discover: 8<br>finish: 9\",\"fib(3)=2<br>discover: 11<br>finish: 16\",\"fib(2)=1<br>discover: 12<br>finish: 13\",\"fib(1)=1<br>discover: 14<br>finish: 15\"],\"ids\":[0,1,2,3,4,5,6,7,8],\"marker\":{\"cmid\":1,\"color\":[1,2,2,2,2,2,1,0,0],\"colorscale\":[[0.0,\"#F7FBFF\"],[0.33,\"#F7FBFF\"],[0.33,\"#6AAED6\"],[0.66,\"#6AAED6\"],[0.66,\"#0A306B\"],[1.0,\"#0A306B\"]],\"line\":{\"color\":\"rgb(50,50,50)\",\"width\":1},\"size\":17},\"mode\":\"markers+text\",\"showlegend\":false,\"text\":[\"5\",\"4\",\"3\",\"2\",\"1\",\"2\",\"3\",\"2\",\"1\"],\"textfont\":{\"color\":[\"rgb(255, 255, 255)\",\"rgb(255, 255, 255)\",\"rgb(255, 255, 255)\",\"rgb(255, 255, 255)\",\"rgb(255, 255, 255)\",\"rgb(255, 255, 255)\",\"rgb(255, 255, 255)\",\"rgb(0,0,0)\",\"rgb(0,0,0)\"]},\"x\":[171.0,135.0,63.0,27.0,99.0,135.0,207.0,207.0,279.0],\"y\":[234.0,162.0,90.0,18.0,18.0,90.0,162.0,90.0,90.0],\"type\":\"scatter\"},{\"hoverinfo\":\"none\",\"line\":{\"color\":\"#888\",\"width\":1},\"mode\":\"lines\",\"showlegend\":false,\"textposition\":\"bottom right\",\"x\":[171.0,135.0,null,171.0,207.0,null,135.0,63.0,null,135.0,135.0,null,63.0,27.0,null,63.0,99.0,null,207.0,207.0,null,207.0,279.0,null],\"y\":[234.0,162.0,null,234.0,162.0,null,162.0,90.0,null,162.0,90.0,null,90.0,18.0,null,90.0,18.0,null,162.0,90.0,null,162.0,90.0,null],\"type\":\"scatter\"}],\"name\":\"12\"},{\"data\":[{\"hoverinfo\":\"text\",\"hovertext\":[\"fib(5)=5<br>discover: 0<br>finish: 17\",\"fib(4)=3<br>discover: 1<br>finish: 10\",\"fib(3)=2<br>discover: 2<br>finish: 7\",\"fib(2)=1<br>discover: 3<br>finish: 4\",\"fib(1)=1<br>discover: 5<br>finish: 6\",\"fib(2)=1<br>discover: 8<br>finish: 9\",\"fib(3)=2<br>discover: 11<br>finish: 16\",\"fib(2)=1<br>discover: 12<br>finish: 13\",\"fib(1)=1<br>discover: 14<br>finish: 15\"],\"ids\":[0,1,2,3,4,5,6,7,8],\"marker\":{\"cmid\":1,\"color\":[1,2,2,2,2,2,1,1,0],\"colorscale\":[[0.0,\"#F7FBFF\"],[0.33,\"#F7FBFF\"],[0.33,\"#6AAED6\"],[0.66,\"#6AAED6\"],[0.66,\"#0A306B\"],[1.0,\"#0A306B\"]],\"line\":{\"color\":\"rgb(50,50,50)\",\"width\":1},\"size\":17},\"mode\":\"markers+text\",\"showlegend\":false,\"text\":[\"5\",\"4\",\"3\",\"2\",\"1\",\"2\",\"3\",\"2\",\"1\"],\"textfont\":{\"color\":[\"rgb(255, 255, 255)\",\"rgb(255, 255, 255)\",\"rgb(255, 255, 255)\",\"rgb(255, 255, 255)\",\"rgb(255, 255, 255)\",\"rgb(255, 255, 255)\",\"rgb(255, 255, 255)\",\"rgb(255, 255, 255)\",\"rgb(0,0,0)\"]},\"x\":[171.0,135.0,63.0,27.0,99.0,135.0,207.0,207.0,279.0],\"y\":[234.0,162.0,90.0,18.0,18.0,90.0,162.0,90.0,90.0],\"type\":\"scatter\"},{\"hoverinfo\":\"none\",\"line\":{\"color\":\"#888\",\"width\":1},\"mode\":\"lines\",\"showlegend\":false,\"textposition\":\"bottom right\",\"x\":[171.0,135.0,null,171.0,207.0,null,135.0,63.0,null,135.0,135.0,null,63.0,27.0,null,63.0,99.0,null,207.0,207.0,null,207.0,279.0,null],\"y\":[234.0,162.0,null,234.0,162.0,null,162.0,90.0,null,162.0,90.0,null,90.0,18.0,null,90.0,18.0,null,162.0,90.0,null,162.0,90.0,null],\"type\":\"scatter\"}],\"name\":\"13\"},{\"data\":[{\"hoverinfo\":\"text\",\"hovertext\":[\"fib(5)=5<br>discover: 0<br>finish: 17\",\"fib(4)=3<br>discover: 1<br>finish: 10\",\"fib(3)=2<br>discover: 2<br>finish: 7\",\"fib(2)=1<br>discover: 3<br>finish: 4\",\"fib(1)=1<br>discover: 5<br>finish: 6\",\"fib(2)=1<br>discover: 8<br>finish: 9\",\"fib(3)=2<br>discover: 11<br>finish: 16\",\"fib(2)=1<br>discover: 12<br>finish: 13\",\"fib(1)=1<br>discover: 14<br>finish: 15\"],\"ids\":[0,1,2,3,4,5,6,7,8],\"marker\":{\"cmid\":1,\"color\":[1,2,2,2,2,2,1,2,0],\"colorscale\":[[0.0,\"#F7FBFF\"],[0.33,\"#F7FBFF\"],[0.33,\"#6AAED6\"],[0.66,\"#6AAED6\"],[0.66,\"#0A306B\"],[1.0,\"#0A306B\"]],\"line\":{\"color\":\"rgb(50,50,50)\",\"width\":1},\"size\":17},\"mode\":\"markers+text\",\"showlegend\":false,\"text\":[\"5\",\"4\",\"3\",\"2\",\"1\",\"2\",\"3\",\"2\",\"1\"],\"textfont\":{\"color\":[\"rgb(255, 255, 255)\",\"rgb(255, 255, 255)\",\"rgb(255, 255, 255)\",\"rgb(255, 255, 255)\",\"rgb(255, 255, 255)\",\"rgb(255, 255, 255)\",\"rgb(255, 255, 255)\",\"rgb(255, 255, 255)\",\"rgb(0,0,0)\"]},\"x\":[171.0,135.0,63.0,27.0,99.0,135.0,207.0,207.0,279.0],\"y\":[234.0,162.0,90.0,18.0,18.0,90.0,162.0,90.0,90.0],\"type\":\"scatter\"},{\"hoverinfo\":\"none\",\"line\":{\"color\":\"#888\",\"width\":1},\"mode\":\"lines\",\"showlegend\":false,\"textposition\":\"bottom right\",\"x\":[171.0,135.0,null,171.0,207.0,null,135.0,63.0,null,135.0,135.0,null,63.0,27.0,null,63.0,99.0,null,207.0,207.0,null,207.0,279.0,null],\"y\":[234.0,162.0,null,234.0,162.0,null,162.0,90.0,null,162.0,90.0,null,90.0,18.0,null,90.0,18.0,null,162.0,90.0,null,162.0,90.0,null],\"type\":\"scatter\"}],\"name\":\"14\"},{\"data\":[{\"hoverinfo\":\"text\",\"hovertext\":[\"fib(5)=5<br>discover: 0<br>finish: 17\",\"fib(4)=3<br>discover: 1<br>finish: 10\",\"fib(3)=2<br>discover: 2<br>finish: 7\",\"fib(2)=1<br>discover: 3<br>finish: 4\",\"fib(1)=1<br>discover: 5<br>finish: 6\",\"fib(2)=1<br>discover: 8<br>finish: 9\",\"fib(3)=2<br>discover: 11<br>finish: 16\",\"fib(2)=1<br>discover: 12<br>finish: 13\",\"fib(1)=1<br>discover: 14<br>finish: 15\"],\"ids\":[0,1,2,3,4,5,6,7,8],\"marker\":{\"cmid\":1,\"color\":[1,2,2,2,2,2,1,2,1],\"colorscale\":[[0.0,\"#F7FBFF\"],[0.33,\"#F7FBFF\"],[0.33,\"#6AAED6\"],[0.66,\"#6AAED6\"],[0.66,\"#0A306B\"],[1.0,\"#0A306B\"]],\"line\":{\"color\":\"rgb(50,50,50)\",\"width\":1},\"size\":17},\"mode\":\"markers+text\",\"showlegend\":false,\"text\":[\"5\",\"4\",\"3\",\"2\",\"1\",\"2\",\"3\",\"2\",\"1\"],\"textfont\":{\"color\":[\"rgb(255, 255, 255)\",\"rgb(255, 255, 255)\",\"rgb(255, 255, 255)\",\"rgb(255, 255, 255)\",\"rgb(255, 255, 255)\",\"rgb(255, 255, 255)\",\"rgb(255, 255, 255)\",\"rgb(255, 255, 255)\",\"rgb(255, 255, 255)\"]},\"x\":[171.0,135.0,63.0,27.0,99.0,135.0,207.0,207.0,279.0],\"y\":[234.0,162.0,90.0,18.0,18.0,90.0,162.0,90.0,90.0],\"type\":\"scatter\"},{\"hoverinfo\":\"none\",\"line\":{\"color\":\"#888\",\"width\":1},\"mode\":\"lines\",\"showlegend\":false,\"textposition\":\"bottom right\",\"x\":[171.0,135.0,null,171.0,207.0,null,135.0,63.0,null,135.0,135.0,null,63.0,27.0,null,63.0,99.0,null,207.0,207.0,null,207.0,279.0,null],\"y\":[234.0,162.0,null,234.0,162.0,null,162.0,90.0,null,162.0,90.0,null,90.0,18.0,null,90.0,18.0,null,162.0,90.0,null,162.0,90.0,null],\"type\":\"scatter\"}],\"name\":\"15\"},{\"data\":[{\"hoverinfo\":\"text\",\"hovertext\":[\"fib(5)=5<br>discover: 0<br>finish: 17\",\"fib(4)=3<br>discover: 1<br>finish: 10\",\"fib(3)=2<br>discover: 2<br>finish: 7\",\"fib(2)=1<br>discover: 3<br>finish: 4\",\"fib(1)=1<br>discover: 5<br>finish: 6\",\"fib(2)=1<br>discover: 8<br>finish: 9\",\"fib(3)=2<br>discover: 11<br>finish: 16\",\"fib(2)=1<br>discover: 12<br>finish: 13\",\"fib(1)=1<br>discover: 14<br>finish: 15\"],\"ids\":[0,1,2,3,4,5,6,7,8],\"marker\":{\"cmid\":1,\"color\":[1,2,2,2,2,2,1,2,2],\"colorscale\":[[0.0,\"#F7FBFF\"],[0.33,\"#F7FBFF\"],[0.33,\"#6AAED6\"],[0.66,\"#6AAED6\"],[0.66,\"#0A306B\"],[1.0,\"#0A306B\"]],\"line\":{\"color\":\"rgb(50,50,50)\",\"width\":1},\"size\":17},\"mode\":\"markers+text\",\"showlegend\":false,\"text\":[\"5\",\"4\",\"3\",\"2\",\"1\",\"2\",\"3\",\"2\",\"1\"],\"textfont\":{\"color\":[\"rgb(255, 255, 255)\",\"rgb(255, 255, 255)\",\"rgb(255, 255, 255)\",\"rgb(255, 255, 255)\",\"rgb(255, 255, 255)\",\"rgb(255, 255, 255)\",\"rgb(255, 255, 255)\",\"rgb(255, 255, 255)\",\"rgb(255, 255, 255)\"]},\"x\":[171.0,135.0,63.0,27.0,99.0,135.0,207.0,207.0,279.0],\"y\":[234.0,162.0,90.0,18.0,18.0,90.0,162.0,90.0,90.0],\"type\":\"scatter\"},{\"hoverinfo\":\"none\",\"line\":{\"color\":\"#888\",\"width\":1},\"mode\":\"lines\",\"showlegend\":false,\"textposition\":\"bottom right\",\"x\":[171.0,135.0,null,171.0,207.0,null,135.0,63.0,null,135.0,135.0,null,63.0,27.0,null,63.0,99.0,null,207.0,207.0,null,207.0,279.0,null],\"y\":[234.0,162.0,null,234.0,162.0,null,162.0,90.0,null,162.0,90.0,null,90.0,18.0,null,90.0,18.0,null,162.0,90.0,null,162.0,90.0,null],\"type\":\"scatter\"}],\"name\":\"16\"},{\"data\":[{\"hoverinfo\":\"text\",\"hovertext\":[\"fib(5)=5<br>discover: 0<br>finish: 17\",\"fib(4)=3<br>discover: 1<br>finish: 10\",\"fib(3)=2<br>discover: 2<br>finish: 7\",\"fib(2)=1<br>discover: 3<br>finish: 4\",\"fib(1)=1<br>discover: 5<br>finish: 6\",\"fib(2)=1<br>discover: 8<br>finish: 9\",\"fib(3)=2<br>discover: 11<br>finish: 16\",\"fib(2)=1<br>discover: 12<br>finish: 13\",\"fib(1)=1<br>discover: 14<br>finish: 15\"],\"ids\":[0,1,2,3,4,5,6,7,8],\"marker\":{\"cmid\":1,\"color\":[1,2,2,2,2,2,2,2,2],\"colorscale\":[[0.0,\"#F7FBFF\"],[0.33,\"#F7FBFF\"],[0.33,\"#6AAED6\"],[0.66,\"#6AAED6\"],[0.66,\"#0A306B\"],[1.0,\"#0A306B\"]],\"line\":{\"color\":\"rgb(50,50,50)\",\"width\":1},\"size\":17},\"mode\":\"markers+text\",\"showlegend\":false,\"text\":[\"5\",\"4\",\"3\",\"2\",\"1\",\"2\",\"3\",\"2\",\"1\"],\"textfont\":{\"color\":[\"rgb(255, 255, 255)\",\"rgb(255, 255, 255)\",\"rgb(255, 255, 255)\",\"rgb(255, 255, 255)\",\"rgb(255, 255, 255)\",\"rgb(255, 255, 255)\",\"rgb(255, 255, 255)\",\"rgb(255, 255, 255)\",\"rgb(255, 255, 255)\"]},\"x\":[171.0,135.0,63.0,27.0,99.0,135.0,207.0,207.0,279.0],\"y\":[234.0,162.0,90.0,18.0,18.0,90.0,162.0,90.0,90.0],\"type\":\"scatter\"},{\"hoverinfo\":\"none\",\"line\":{\"color\":\"#888\",\"width\":1},\"mode\":\"lines\",\"showlegend\":false,\"textposition\":\"bottom right\",\"x\":[171.0,135.0,null,171.0,207.0,null,135.0,63.0,null,135.0,135.0,null,63.0,27.0,null,63.0,99.0,null,207.0,207.0,null,207.0,279.0,null],\"y\":[234.0,162.0,null,234.0,162.0,null,162.0,90.0,null,162.0,90.0,null,90.0,18.0,null,90.0,18.0,null,162.0,90.0,null,162.0,90.0,null],\"type\":\"scatter\"}],\"name\":\"17\"},{\"data\":[{\"hoverinfo\":\"text\",\"hovertext\":[\"fib(5)=5<br>discover: 0<br>finish: 17\",\"fib(4)=3<br>discover: 1<br>finish: 10\",\"fib(3)=2<br>discover: 2<br>finish: 7\",\"fib(2)=1<br>discover: 3<br>finish: 4\",\"fib(1)=1<br>discover: 5<br>finish: 6\",\"fib(2)=1<br>discover: 8<br>finish: 9\",\"fib(3)=2<br>discover: 11<br>finish: 16\",\"fib(2)=1<br>discover: 12<br>finish: 13\",\"fib(1)=1<br>discover: 14<br>finish: 15\"],\"ids\":[0,1,2,3,4,5,6,7,8],\"marker\":{\"cmid\":1,\"color\":[2,2,2,2,2,2,2,2,2],\"colorscale\":[[0.0,\"#F7FBFF\"],[0.33,\"#F7FBFF\"],[0.33,\"#6AAED6\"],[0.66,\"#6AAED6\"],[0.66,\"#0A306B\"],[1.0,\"#0A306B\"]],\"line\":{\"color\":\"rgb(50,50,50)\",\"width\":1},\"size\":17},\"mode\":\"markers+text\",\"showlegend\":false,\"text\":[\"5\",\"4\",\"3\",\"2\",\"1\",\"2\",\"3\",\"2\",\"1\"],\"textfont\":{\"color\":[\"rgb(255, 255, 255)\",\"rgb(255, 255, 255)\",\"rgb(255, 255, 255)\",\"rgb(255, 255, 255)\",\"rgb(255, 255, 255)\",\"rgb(255, 255, 255)\",\"rgb(255, 255, 255)\",\"rgb(255, 255, 255)\",\"rgb(255, 255, 255)\"]},\"x\":[171.0,135.0,63.0,27.0,99.0,135.0,207.0,207.0,279.0],\"y\":[234.0,162.0,90.0,18.0,18.0,90.0,162.0,90.0,90.0],\"type\":\"scatter\"},{\"hoverinfo\":\"none\",\"line\":{\"color\":\"#888\",\"width\":1},\"mode\":\"lines\",\"showlegend\":false,\"textposition\":\"bottom right\",\"x\":[171.0,135.0,null,171.0,207.0,null,135.0,63.0,null,135.0,135.0,null,63.0,27.0,null,63.0,99.0,null,207.0,207.0,null,207.0,279.0,null],\"y\":[234.0,162.0,null,234.0,162.0,null,162.0,90.0,null,162.0,90.0,null,90.0,18.0,null,90.0,18.0,null,162.0,90.0,null,162.0,90.0,null],\"type\":\"scatter\"}],\"name\":\"18\"}]);\n",
       "                        }).then(function(){\n",
       "                            \n",
       "var gd = document.getElementById('681efb04-b1b5-44eb-bda2-f7d80c032715');\n",
       "var x = new MutationObserver(function (mutations, observer) {{\n",
       "        var display = window.getComputedStyle(gd).display;\n",
       "        if (!display || display === 'none') {{\n",
       "            console.log([gd, 'removed!']);\n",
       "            Plotly.purge(gd);\n",
       "            observer.disconnect();\n",
       "        }}\n",
       "}});\n",
       "\n",
       "// Listen for the removal of the full notebook cells\n",
       "var notebookContainer = gd.closest('#notebook-container');\n",
       "if (notebookContainer) {{\n",
       "    x.observe(notebookContainer, {childList: true});\n",
       "}}\n",
       "\n",
       "// Listen for the clearing of the current output cell\n",
       "var outputEl = gd.closest('.output');\n",
       "if (outputEl) {{\n",
       "    x.observe(outputEl, {childList: true});\n",
       "}}\n",
       "\n",
       "                        })                };                });            </script>        </div>"
      ]
     },
     "metadata": {},
     "output_type": "display_data"
    }
   ],
   "source": [
    "#|output: true\n",
    "fig, result = fib(5)"
   ]
  },
  {
   "cell_type": "markdown",
   "metadata": {},
   "source": [
    "# Partition Equal Subset Sum"
   ]
  },
  {
   "cell_type": "code",
   "execution_count": null,
   "metadata": {},
   "outputs": [],
   "source": [
    "# def canPartition(nums):\n",
    "    \n",
    "#     total = sum(nums)\n",
    "#     cache = {}\n",
    "    \n",
    "#     @Memoize()\n",
    "#     def f(i, sum_, edge_label=''):\n",
    "#         if i == len(nums): # base case\n",
    "#             cache[(i, sum_)] = total - sum_ == sum_  \n",
    "#             return cache[(i, sum_)]\n",
    "#         elif (i, sum_) in cache: # already computed\n",
    "#             return cache[(i, sum_)]\n",
    "#         else: # main case\n",
    "#             cache[(i, sum_)] = f(i+1, sum_ + nums[i], edge_label=edge_label+str(nums[i]) + ',') \\\n",
    "#              or f(i+1, sum_, edge_label=edge_label)\n",
    "#         return cache[(i, sum_)]\n",
    "    \n",
    "#     return f(0, 0)"
   ]
  },
  {
   "cell_type": "code",
   "execution_count": null,
   "metadata": {},
   "outputs": [],
   "source": [
    "# nums = [2,3,4,5,6]\n",
    "# canPartition(nums)"
   ]
  },
  {
   "cell_type": "markdown",
   "metadata": {},
   "source": [
    "# Coin Change Example"
   ]
  },
  {
   "cell_type": "code",
   "execution_count": null,
   "metadata": {},
   "outputs": [],
   "source": [
    "# def coin_change(coins, amount):\n",
    "\n",
    "#   @Memoize(save=True)\n",
    "#   def change(i, edge_label=''):\n",
    "#     if i == 0 or i < 0: # base case\n",
    "#      return 0 if i == 0 else float('inf')\n",
    "        \n",
    "#     result = float('inf')\n",
    "#     for c in coins:\n",
    "#       if i - c >= 0:\n",
    "#         result = min(result, change(i-c, edge_label='{} coin'.format(c)) + 1)\n",
    "#     return result\n",
    "        \n",
    "#   result = change(amount)\n",
    "#   return -1 if result == float('inf') else result"
   ]
  },
  {
   "cell_type": "code",
   "execution_count": null,
   "metadata": {},
   "outputs": [],
   "source": [
    "# coins = [1, 3, 5]\n",
    "# amount = 7\n",
    "# coin_change(coins, amount)"
   ]
  },
  {
   "cell_type": "markdown",
   "metadata": {},
   "source": [
    "# Merge Sort"
   ]
  },
  {
   "cell_type": "code",
   "execution_count": null,
   "metadata": {},
   "outputs": [],
   "source": [
    "# def mergesort_wrapper(nums):\n",
    "\n",
    "#   def merge(lo, mid, hi):\n",
    "#     L, R = nums[lo:mid+1] + [float('inf')], nums[mid+1:hi+1] + [float('inf')]\n",
    "#     i, j = 0, 0\n",
    "#     for k in range(lo, hi+1):\n",
    "#       if L[i] <= R[j]:\n",
    "#         nums[k] = L[i]\n",
    "#         i += 1\n",
    "#       else:\n",
    "#         nums[k] = R[j]\n",
    "#         j += 1\n",
    "\n",
    "#   @Memoize()\n",
    "#   def mergesort(lo, hi, edge_label=''):\n",
    "\n",
    "#     if lo < hi:\n",
    "#       mid = lo + (hi-lo) // 2\n",
    "#       mergesort(lo, mid, edge_label='nums={}'.format(nums[lo:mid+1]))\n",
    "#       mergesort(mid+1, hi, edge_label='nums={}'.format(nums[mid+1:hi+1]))\n",
    "#       merge(lo, mid, hi)\n",
    "#       return nums[lo:hi+1]\n",
    "\n",
    "#   mergesort(0, len(nums)-1)  \n",
    "#   return nums"
   ]
  },
  {
   "cell_type": "code",
   "execution_count": null,
   "metadata": {},
   "outputs": [],
   "source": [
    "# nums = [3, 1, 9, 4]\n",
    "# result = mergesort_wrapper(nums)"
   ]
  },
  {
   "cell_type": "code",
   "execution_count": null,
   "metadata": {},
   "outputs": [
    {
     "name": "stderr",
     "output_type": "stream",
     "text": [
      "/Users/eitanturok/mambaforge/envs/recursion-visualizer/lib/python3.10/site-packages/nbdev/export.py:54: UserWarning:\n",
      "\n",
      "Notebook '/Users/eitanturok/Desktop/projects/recursion-visualizer/02_animate.ipynb' uses `#|export` without `#|default_exp` cell.\n",
      "Note nbdev2 no longer supports nbdev1 syntax. Run `nbdev_migrate` to upgrade.\n",
      "See https://nbdev.fast.ai/getting_started.html for more information.\n",
      "\n"
     ]
    }
   ],
   "source": [
    "#| hide\n",
    "import nbdev; nbdev.nbdev_export()"
   ]
  },
  {
   "cell_type": "code",
   "execution_count": null,
   "metadata": {},
   "outputs": [],
   "source": []
  }
 ],
 "metadata": {
  "kernelspec": {
   "display_name": "recursion-visualizer",
   "language": "python",
   "name": "recursion-visualizer"
  }
 },
 "nbformat": 4,
 "nbformat_minor": 0
}
