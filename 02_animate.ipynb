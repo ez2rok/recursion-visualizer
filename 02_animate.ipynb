{
 "cells": [
  {
   "cell_type": "code",
   "execution_count": null,
   "metadata": {},
   "outputs": [],
   "source": [
    "#| hide\n",
    "%load_ext autoreload\n",
    "%autoreload 2"
   ]
  },
  {
   "cell_type": "markdown",
   "metadata": {},
   "source": [
    "# animate\n",
    "\n",
    "> Animate the recursion tree"
   ]
  },
  {
   "cell_type": "code",
   "execution_count": null,
   "metadata": {},
   "outputs": [],
   "source": [
    "#| default_exp animate"
   ]
  },
  {
   "cell_type": "code",
   "execution_count": null,
   "metadata": {},
   "outputs": [],
   "source": [
    "#| export\n",
    "def get_edges(nodes, history, edge_labels):\n",
    "  \"\"\"get edges from preorder travrsal\n",
    "  inspired by: https://leetcode.com/problems/recover-a-tree-from-preorder-traversal/discuss/274621/JavaC%2B%2BPython-Iterative-Stack-Solution\"\"\"\n",
    "  \n",
    "  # extract the preorder traversal from the nodes\n",
    "  preorder, seen = [], set()\n",
    "  for id_ in history:\n",
    "      if id_ not in seen:\n",
    "          seen.add(id_)\n",
    "          preorder.append(id_)\n",
    "  \n",
    "  # extract the edges from the preorder traversal by analyzing the depth\n",
    "  edge_to_label = {}\n",
    "  stack = []\n",
    "  for id_ in preorder:\n",
    "    while len(stack) > nodes[id_].depth:\n",
    "      stack.pop()\n",
    "    if stack:\n",
    "      edge_to_label[(stack[-1], id_)] = edge_labels[id_]\n",
    "    stack.append(id_)\n",
    "  return edge_to_label"
   ]
  },
  {
   "cell_type": "code",
   "execution_count": null,
   "metadata": {},
   "outputs": [],
   "source": [
    "#| hide\n",
    "import nbdev; nbdev.nbdev_export()"
   ]
  }
 ],
 "metadata": {
  "kernelspec": {
   "display_name": "Python 3.10.4 ('recursion-visualizer')",
   "language": "python",
   "name": "python3"
  }
 },
 "nbformat": 4,
 "nbformat_minor": 2
}
