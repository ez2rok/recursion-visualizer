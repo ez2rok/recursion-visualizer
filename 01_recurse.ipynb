{
 "cells": [
  {
   "cell_type": "code",
   "execution_count": null,
   "metadata": {},
   "outputs": [],
   "source": [
    "#| hide\n",
    "%load_ext autoreload\n",
    "%autoreload 2"
   ]
  },
  {
   "cell_type": "markdown",
   "metadata": {},
   "source": [
    "# recurse\n",
    "> A class that provides a decorator for visualizing recursion trees and caching results"
   ]
  },
  {
   "cell_type": "code",
   "execution_count": null,
   "metadata": {},
   "outputs": [],
   "source": [
    "#| default_exp recurse"
   ]
  },
  {
   "cell_type": "code",
   "execution_count": null,
   "metadata": {},
   "outputs": [],
   "source": [
    "#| export\n",
    "from recursion_visualizer.node import Node \n",
    "from recursion_visualizer.graph import get_graph"
   ]
  },
  {
   "cell_type": "code",
   "execution_count": null,
   "metadata": {},
   "outputs": [],
   "source": [
    "#| hide\n",
    "from nbdev.showdoc import *"
   ]
  },
  {
   "cell_type": "code",
   "execution_count": null,
   "metadata": {},
   "outputs": [],
   "source": [
    "#| export\n",
    "class RecursionVisualizer:\n",
    "  \"\"\"A class that provides a decorator for visualizing recursion trees and caching results.\"\"\"\n",
    "\n",
    "  def __init__(self,\n",
    "               verbose: bool = False, # if true, print all nodes\n",
    "               animate: bool = True, # if true, create an animation of the recursion tree\n",
    "               save: bool = False, # if true, save the animation to a html file\n",
    "               path: str ='', # path to save the animation to\n",
    "               ): \n",
    "    \n",
    "    self.verbose = verbose\n",
    "    self.animate = animate\n",
    "    self.save = save\n",
    "    self.path = path\n",
    "    self._reset()\n",
    "\n",
    "  def _reset(self):\n",
    "    \"\"\"\n",
    "    self.nodes = preorder traversal of nodes\n",
    "    self.history = element i was discovered or finished at time i\n",
    "    self.pos = position of vertices in animate\n",
    "    \"\"\"\n",
    "    self.nodes, self.node_to_edge_labels, self.history = {}, {}, []\n",
    "    self.id, self.time, self.depth = 0, 0, 0\n",
    "    self.cache = {}\n",
    "    self.func_name = ''\n",
    "\n",
    "  def _animate(self, history, nodes, node_to_edge_labels, func_name):\n",
    "    DG = get_graph(history, nodes, node_to_edge_labels)\n",
    "\n",
    "    # # create recursion tree animation\n",
    "    # fig = animate(history, nodes, func_name)\n",
    "    # fig.show()\n",
    "\n",
    "    # # save figure\n",
    "    # if self.save:\n",
    "    #   if self.path == '':\n",
    "    #     input = ','.join(list(map(str, nodes[0]['input'])))\n",
    "    #     self.path = './{}_{}.html'.format(func_name, input)\n",
    "    #   fig.write_html(self.path)\n",
    "\n",
    "  def __call__(self, \n",
    "               func: callable # function to be visualized or cached via decorator\n",
    "               ):\n",
    "    \"\"\"A custom `__call__` function records the id, function input, function output, depth, discovery time, \n",
    "    and finish time in a node each time the function is called. After all function calls are made, `__call__`\n",
    "    will animate the recursion tree. This is the main workhorse of the `RecursionVisualizer` class.\n",
    "    \n",
    "    At a high-level, the `__call__` function looks something like:\n",
    "    \n",
    "    ```\n",
    "    def __call__(self, func):\n",
    "      def memoized_func(*args, **kwargs):\n",
    "        # record discovery time, function input, and depth\n",
    "        node.discovery = time\n",
    "        node.input = args\n",
    "        node.depth = depth\n",
    "        \n",
    "        # if node not in cache, compute and cache result\n",
    "        if node not in self.cache:\n",
    "          self.cache[args] = func(*args, **kwargs)\n",
    "          \n",
    "        # record finish time and function output\n",
    "        node.output = self.cache[args]\n",
    "        node.finish = time\n",
    "        \n",
    "        if depth == 0:\n",
    "          animate()\n",
    "        \n",
    "      return memoized_func\n",
    "    ```\n",
    "    \"\"\"\n",
    "\n",
    "    def memoized_func(*args, **kwargs):\n",
    "      if self.depth == 0:\n",
    "        self._reset()\n",
    "\n",
    "      # record node's depth, discovery time, and input arguments\n",
    "      id_ = len(self.nodes)\n",
    "      node = Node(id_=id_, input=args, depth=self.depth, discovery=self.time)\n",
    "      self.history.append(node.id_)\n",
    "      self.nodes[node.id_] = node\n",
    "      self.time += 1\n",
    "\n",
    "      # update depth and call the function `func`\n",
    "      self.depth += 1\n",
    "      # if args not in self.cache:\n",
    "      self.cache[args] = func(*args, **kwargs)\n",
    "      self.depth -= 1\n",
    "\n",
    "      # record node's output, finish time, history, and edge_label\n",
    "      self.nodes[id_].output = self.cache[args]\n",
    "      self.nodes[id_].finish = self.time\n",
    "      \n",
    "      self.node_to_edge_labels[id_] = kwargs['edge_label'] if kwargs and 'edge_label' in kwargs else ''\n",
    "      self.history.append(node.id_)\n",
    "      self.time += 1\n",
    "\n",
    "      if self.verbose:\n",
    "        print(node)\n",
    "\n",
    "      # animate after done traversing through the entire tree\n",
    "      if self.animate and self.depth == 0:\n",
    "        self._animate(self.history, self.nodes, self.node_to_edge_labels, func.__name__)\n",
    "\n",
    "      return self.cache[args]\n",
    "    return memoized_func"
   ]
  },
  {
   "cell_type": "code",
   "execution_count": null,
   "metadata": {},
   "outputs": [],
   "source": [
    "@RecursionVisualizer()\n",
    "def fib(n):\n",
    "  if n <= 2: \n",
    "    return 1\n",
    "  return fib(n-1) + fib(n-2)"
   ]
  },
  {
   "cell_type": "code",
   "execution_count": null,
   "metadata": {},
   "outputs": [
    {
     "data": {
      "text/plain": [
       "5"
      ]
     },
     "execution_count": null,
     "metadata": {},
     "output_type": "execute_result"
    }
   ],
   "source": [
    "fib(5)"
   ]
  },
  {
   "cell_type": "code",
   "execution_count": null,
   "metadata": {},
   "outputs": [
    {
     "data": {
      "text/plain": [
       "dict_keys([(0, 1), (1, 2), (2, 3), (2, 4), (1, 5), (0, 6), (6, 7), (6, 8)])"
      ]
     },
     "execution_count": null,
     "metadata": {},
     "output_type": "execute_result"
    }
   ],
   "source": [
    "edges_to_labels = {(0, 1): '', (1, 2): '', (2, 3): '', (2, 4): '', (1, 5): '', (0, 6): '', (6, 7): '', (6, 8): ''}\n",
    "edges_to_labels.keys()"
   ]
  },
  {
   "cell_type": "code",
   "execution_count": null,
   "metadata": {},
   "outputs": [],
   "source": [
    "#| hide\n",
    "import nbdev; nbdev.nbdev_export()"
   ]
  }
 ],
 "metadata": {
  "kernelspec": {
   "display_name": "Python 3.10.6 ('recursion-visualizer')",
   "language": "python",
   "name": "python3"
  }
 },
 "nbformat": 4,
 "nbformat_minor": 4
}
